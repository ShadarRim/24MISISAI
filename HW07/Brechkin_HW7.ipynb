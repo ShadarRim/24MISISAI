{
  "nbformat": 4,
  "nbformat_minor": 0,
  "metadata": {
    "colab": {
      "provenance": []
    },
    "kernelspec": {
      "name": "python3",
      "display_name": "Python 3"
    },
    "language_info": {
      "name": "python"
    }
  },
  "cells": [
    {
      "cell_type": "code",
      "execution_count": null,
      "metadata": {
        "id": "ft3neqqRjaVi"
      },
      "outputs": [],
      "source": [
        "import pandas as pd\n",
        "import numpy as np\n",
        "from sklearn.cluster import DBSCAN\n",
        "from sklearn.cluster import KMeans\n",
        "from sklearn.cluster import MiniBatchKMeans\n",
        "from sklearn.metrics import accuracy_score\n",
        "from sklearn.metrics import confusion_matrix\n",
        "from sklearn.cluster import AgglomerativeClustering\n",
        "from sklearn.preprocessing import StandardScaler\n",
        "import matplotlib.pyplot as plt\n",
        "import seaborn as sns"
      ]
    },
    {
      "cell_type": "code",
      "source": [
        "df = pd.read_csv('train.csv')"
      ],
      "metadata": {
        "id": "3rgiOkOE3oLR"
      },
      "execution_count": null,
      "outputs": []
    },
    {
      "cell_type": "code",
      "source": [
        "df.fillna(df.median(), inplace=True)"
      ],
      "metadata": {
        "id": "9D6h3EgAIG8d"
      },
      "execution_count": null,
      "outputs": []
    },
    {
      "cell_type": "code",
      "source": [
        "target = df['subject_id']\n",
        "df=df.drop('subject_id', axis=1)"
      ],
      "metadata": {
        "id": "nza_MrlUETwF"
      },
      "execution_count": null,
      "outputs": []
    },
    {
      "cell_type": "code",
      "source": [
        "df.columns"
      ],
      "metadata": {
        "colab": {
          "base_uri": "https://localhost:8080/"
        },
        "id": "2zxOhnFxcLua",
        "outputId": "e2e41420-aafa-4cf6-a351-96fd0050e65f"
      },
      "execution_count": null,
      "outputs": [
        {
          "output_type": "execute_result",
          "data": {
            "text/plain": [
              "Index(['timestamp', 'handTemperature', 'handAcc16_1', 'handAcc16_2',\n",
              "       'handAcc16_3', 'handAcc6_1', 'handAcc6_2', 'handAcc6_3', 'handGyro1',\n",
              "       'handGyro2', 'handGyro3', 'handMagne1', 'handMagne2', 'handMagne3',\n",
              "       'handOrientation1', 'handOrientation2', 'handOrientation3',\n",
              "       'handOrientation4', 'chestTemperature', 'chestAcc16_1', 'chestAcc16_2',\n",
              "       'chestAcc16_3', 'chestAcc6_1', 'chestAcc6_2', 'chestAcc6_3',\n",
              "       'chestGyro1', 'chestGyro2', 'chestGyro3', 'chestMagne1', 'chestMagne2',\n",
              "       'chestMagne3', 'chestOrientation1', 'chestOrientation2',\n",
              "       'chestOrientation3', 'chestOrientation4', 'ankleTemperature',\n",
              "       'ankleAcc16_1', 'ankleAcc16_2', 'ankleAcc16_3', 'ankleAcc6_1',\n",
              "       'ankleAcc6_2', 'ankleAcc6_3', 'ankleGyro1', 'ankleGyro2', 'ankleGyro3',\n",
              "       'ankleMagne1', 'ankleMagne2', 'ankleMagne3', 'ankleOrientation1',\n",
              "       'ankleOrientation2', 'ankleOrientation3', 'ankleOrientation4'],\n",
              "      dtype='object')"
            ]
          },
          "metadata": {},
          "execution_count": 161
        }
      ]
    },
    {
      "cell_type": "code",
      "source": [
        "#plt.figure(figsize=(10, 6))\n",
        "#sns.histplot(data=df)\n",
        "#plt.show()"
      ],
      "metadata": {
        "id": "5DIDhlyXZewI"
      },
      "execution_count": null,
      "outputs": []
    },
    {
      "cell_type": "code",
      "source": [
        "df=df.drop('handAcc16_2', axis=1)\n",
        "df=df.drop('handAcc16_3', axis=1)\n",
        "df=df.drop('handAcc6_2', axis=1)\n",
        "df=df.drop('handGyro1', axis=1)\n",
        "df=df.drop('handGyro2', axis=1)\n",
        "df=df.drop('handGyro3', axis=1)\n",
        "df=df.drop('chestAcc16_1', axis=1)\n",
        "df=df.drop('chestAcc16_2', axis=1)\n",
        "#df=df.drop('chestAcc6_1', axis=1)\n",
        "#df=df.drop('chestAcc6_2', axis=1)\n",
        "df=df.drop('chestGyro1', axis=1)\n",
        "df=df.drop('chestGyro2', axis=1)\n",
        "df=df.drop('chestGyro3', axis=1)\n",
        "#df=df.drop('ankleAcc16_1', axis=1)\n",
        "#df=df.drop('ankleAcc16_2', axis=1)\n",
        "#df=df.drop('ankleAcc16_3', axis=1)\n",
        "df=df.drop('ankleGyro1', axis=1)\n",
        "df=df.drop('ankleGyro2', axis=1)\n",
        "df=df.drop('ankleGyro3', axis=1)"
      ],
      "metadata": {
        "id": "f77l2KizcHUv"
      },
      "execution_count": null,
      "outputs": []
    },
    {
      "cell_type": "code",
      "source": [
        "    #df = StandardScaler().fit_transform(df)"
      ],
      "metadata": {
        "id": "XQoKgovqXGXL"
      },
      "execution_count": null,
      "outputs": []
    },
    {
      "cell_type": "code",
      "source": [
        "model = KMeans(n_clusters=8, max_iter=2000, random_state=42).fit(df)"
      ],
      "metadata": {
        "id": "F32LDvIQ4Jgq"
      },
      "execution_count": null,
      "outputs": []
    },
    {
      "cell_type": "code",
      "source": [
        "clusters = model.labels_ + 1"
      ],
      "metadata": {
        "id": "gASEYqE7CJUt"
      },
      "execution_count": null,
      "outputs": []
    },
    {
      "cell_type": "code",
      "source": [
        "predicted_classes = clusters\n",
        "true_classes = target\n",
        "\n",
        "cm = confusion_matrix(true_classes, predicted_classes)\n",
        "\n",
        "class_mapping = {}\n",
        "for i in range(cm.shape[0]):\n",
        "    class_mapping[i + 1] = np.argmax(cm[i]) + 1\n",
        "\n",
        "redefined_classes = np.array([class_mapping[class_] for class_ in predicted_classes])"
      ],
      "metadata": {
        "id": "3e8HuGy4PP9h"
      },
      "execution_count": null,
      "outputs": []
    },
    {
      "cell_type": "code",
      "source": [
        "redefined_classes"
      ],
      "metadata": {
        "colab": {
          "base_uri": "https://localhost:8080/"
        },
        "id": "KKb80XGmAj0P",
        "outputId": "db2d2da9-fb54-4866-83e0-c28c00e5d893"
      },
      "execution_count": null,
      "outputs": [
        {
          "output_type": "execute_result",
          "data": {
            "text/plain": [
              "array([2, 5, 3, ..., 5, 5, 2])"
            ]
          },
          "metadata": {},
          "execution_count": 168
        }
      ]
    },
    {
      "cell_type": "code",
      "source": [
        "accuracy_score(target, redefined_classes)"
      ],
      "metadata": {
        "colab": {
          "base_uri": "https://localhost:8080/"
        },
        "id": "MOa4lPJcA6Ua",
        "outputId": "f7cfc093-74e6-4ecb-93c2-57075c3776b0"
      },
      "execution_count": null,
      "outputs": [
        {
          "output_type": "execute_result",
          "data": {
            "text/plain": [
              "0.13178987693625713"
            ]
          },
          "metadata": {},
          "execution_count": 169
        }
      ]
    },
    {
      "cell_type": "code",
      "source": [
        "ans = pd.DataFrame(clusters, columns=['activityID'])\n",
        "ans['Index'] = list(range(len(ans)))\n",
        "ans = ans.astype(int)\n",
        "#gfg_csv_data = ans.to_csv('Win5.csv', sep=',', index=False)"
      ],
      "metadata": {
        "id": "Zp3n2yvp_Z_g"
      },
      "execution_count": null,
      "outputs": []
    }
  ]
}