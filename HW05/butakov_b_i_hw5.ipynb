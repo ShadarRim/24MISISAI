{
 "cells": [
  {
   "cell_type": "code",
   "execution_count": null,
   "metadata": {
    "id": "HmR-Ni_WiltP"
   },
   "outputs": [],
   "source": []
  },
  {
   "cell_type": "markdown",
   "metadata": {
    "id": "14bHot_miqsJ"
   },
   "source": [
    "# Дерево решения\n",
    "\n",
    "Деревья решения основаны на известной структуре данных - деревьях, которые по сути представляют собой последовательные инструкции с условиями. Например, в задаче согласования кредита может быть следующий алгоритм принятия решения:\n",
    "\n",
    "1. Старше ли клиент 18 лет? Если да, то продолжаем, иначе отказываем в кредите.\n",
    "\n",
    "2. Превышает ли его заработок 50 тысяч рублей? Если да, то продолжаем, иначе отказываем в кредите.\n",
    "\n",
    "3. Были ли у клиента просроченные кредиты ранее? Если да, отказываем в кредите, иначе выдаем.\n",
    "\n",
    "В листьях (терминальных, конечных узлах или конечных вершинах) деревьев стоят значения целевой функции (прогноз), а в узлах - условия перехода, определяющие, по какому из рёбер идти. Если речь идет о бинарных деревьях (каждый узел производит ветвление на две части), обычно, если условие в узле истинно, то происходит переход по левому ребру, если ложно, то по правому."
   ]
  },
  {
   "cell_type": "code",
   "execution_count": 1,
   "metadata": {
    "id": "eBLT7H9ojGZU"
   },
   "outputs": [
    {
     "ename": "ModuleNotFoundError",
     "evalue": "No module named 'graphviz'",
     "output_type": "error",
     "traceback": [
      "\u001b[0;31m---------------------------------------------------------------------------\u001b[0m",
      "\u001b[0;31mModuleNotFoundError\u001b[0m                       Traceback (most recent call last)",
      "Cell \u001b[0;32mIn[1], line 2\u001b[0m\n\u001b[1;32m      1\u001b[0m \u001b[38;5;66;03m# визуализировать дерево можно посредством библиотеки python-graphviz\u001b[39;00m\n\u001b[0;32m----> 2\u001b[0m \u001b[38;5;28;01mfrom\u001b[39;00m \u001b[38;5;21;01mgraphviz\u001b[39;00m \u001b[38;5;28;01mimport\u001b[39;00m Digraph\n",
      "\u001b[0;31mModuleNotFoundError\u001b[0m: No module named 'graphviz'"
     ]
    }
   ],
   "source": [
    "# визуализировать дерево можно посредством библиотеки python-graphviz\n",
    "from graphviz import Digraph"
   ]
  },
  {
   "cell_type": "code",
   "execution_count": 2,
   "metadata": {
    "colab": {
     "base_uri": "https://localhost:8080/",
     "height": 427
    },
    "id": "N7LcJXR2jKBs",
    "outputId": "2c2f67ab-1712-424a-8450-fa797c2aadc1"
   },
   "outputs": [
    {
     "ename": "NameError",
     "evalue": "name 'Digraph' is not defined",
     "output_type": "error",
     "traceback": [
      "\u001b[0;31m---------------------------------------------------------------------------\u001b[0m",
      "\u001b[0;31mNameError\u001b[0m                                 Traceback (most recent call last)",
      "Cell \u001b[0;32mIn[2], line 1\u001b[0m\n\u001b[0;32m----> 1\u001b[0m dot \u001b[38;5;241m=\u001b[39m \u001b[43mDigraph\u001b[49m(node_attr\u001b[38;5;241m=\u001b[39m{\u001b[38;5;124m'\u001b[39m\u001b[38;5;124mshape\u001b[39m\u001b[38;5;124m'\u001b[39m: \u001b[38;5;124m'\u001b[39m\u001b[38;5;124mbox\u001b[39m\u001b[38;5;124m'\u001b[39m})\n\u001b[1;32m      3\u001b[0m dot\u001b[38;5;241m.\u001b[39mnode(\u001b[38;5;124m'\u001b[39m\u001b[38;5;124mA\u001b[39m\u001b[38;5;124m'\u001b[39m, label\u001b[38;5;241m=\u001b[39m\u001b[38;5;124m'\u001b[39m\u001b[38;5;124mКлиент старше 18 лет?\u001b[39m\u001b[38;5;124m'\u001b[39m)\n\u001b[1;32m      4\u001b[0m dot\u001b[38;5;241m.\u001b[39mnode(\u001b[38;5;124m'\u001b[39m\u001b[38;5;124mB\u001b[39m\u001b[38;5;124m'\u001b[39m, label\u001b[38;5;241m=\u001b[39m\u001b[38;5;124m'\u001b[39m\u001b[38;5;124mПревышает ли его заработок 50 тысяч рублей?\u001b[39m\u001b[38;5;124m'\u001b[39m)\n",
      "\u001b[0;31mNameError\u001b[0m: name 'Digraph' is not defined"
     ]
    }
   ],
   "source": [
    "dot = Digraph(node_attr={'shape': 'box'})\n",
    "\n",
    "dot.node('A', label='Клиент старше 18 лет?')\n",
    "dot.node('B', label='Превышает ли его заработок 50 тысяч рублей?')\n",
    "dot.node('C', label='Отказать')\n",
    "dot.node('D', label='Были ли у клиента просроченные кредиты ранее?')\n",
    "dot.node('E', label='Отказать')\n",
    "dot.node('F', label='Отказать')\n",
    "dot.node('G', label='Выдать')\n",
    "\n",
    "dot.edge('A', 'B', label='да')\n",
    "dot.edge('A', 'C', label='нет')\n",
    "dot.edge('B', 'D', label='да')\n",
    "dot.edge('B', 'E', label='нет')\n",
    "dot.edge('D', 'F', label='да')\n",
    "dot.edge('D', 'G', label='нет')\n",
    "\n",
    "dot"
   ]
  },
  {
   "cell_type": "markdown",
   "metadata": {
    "id": "bXN_0lkHjSWM"
   },
   "source": [
    "В задачах машинного обучения чаще всего в вершинах прописываются максимально простые условия. Обычно это сравнение значения одного из признаков $x^{j}$ с некоторым заданным порогом $t$:\n",
    "\n",
    "$$[x^{j} \\leq t].$$\n",
    "\n",
    "Если выполняется задача классификации, конечным прогнозом считается класс или распределение вероятностей классов. В случае регрессии прогноз в листе представляет собой вещественное число.\n",
    "\n",
    "Большим плюсом деревьев считается тот факт, что они легко интерпретируемы. То есть вы всегда можете восстановить всю цепочку принятия решения алгоритмом, в отличии от любых более сложных методов, таких, как нейронные сети.\n",
    "\n",
    "Главное же отрицательное качество дерево решения - они (деревья) очень легко переобучаются. Легко построить дерево, где каждый лист будет соответствовать одному объекту обучающей выборки. Оно будет идеально подогнано под обучающую выборку, давать стопроцентный ответ на ней, но при этом не станет восстанавливать оригинальных закономерностей, и качество ответов на новых данных окажется неудовлетворительным."
   ]
  },
  {
   "cell_type": "markdown",
   "metadata": {
    "id": "aANqhxdyj7SJ"
   },
   "source": [
    "## Теория построения дерева решения"
   ]
  },
  {
   "cell_type": "markdown",
   "metadata": {
    "id": "PTQTkwUOl5Pe"
   },
   "source": [
    "В машинном обучении деревья строятся от корня к листьям. Вначале выбирается корень и критерий, по которому выборка разбивается пополам (или на несколько частей). Затем то же самое делается для каждого из потомков этого корня и так далее до остановки. Задача на каждом этапе состоит в выборе способа разбиения каждого узла, то есть в выборе значения порога, с которым будет сравниваться значение одного из признаков в каждом узле.\n",
    "\n",
    "Разбиениение происходит на основании заранее заданного функционала качества $Q(X, j, t)$. Находятся наилучшие значения $j$ и $t$ для выбора порога $[x^{j}<t]$. Параметры $j$ и $t$ можно выбирать перебором: признаков конечное число, а из всех возможных значений порога $t$ можно рассматривать только те, при которых получаются различные разбиения на две подвыборки. Таким образом, различных значений параметра $t$ будет столько же, сколько различных значений признака $x^{j}$ в обучающей выборке.\n",
    "\n",
    "В каждой потенциальной вершине производится проверка, не выполнилось ли некоторое условие останова. Если оно выполнилось, разбиение прекращается, такая вершина будет содержать прогноз.\n",
    "\n",
    "В задаче классификации это будет класс, к которому относится большая часть объектов из выборки в листе $X_{m}$\n",
    "\n",
    "$$a_{m} = \\text{argmax}_{y \\in Y} \\sum_{i \\in X_{m}}[y_{i}=y]$$\n",
    "\n",
    "или доля объектов определённого класса $k$, если требуется предсказать вероятности классов\n",
    "\n",
    "$$a_{mk} = \\frac{1}{|X_{m}|} \\sum_{i \\in X_{m}}[y_{i}=k].$$\n",
    "\n",
    "В случае регрессии в качестве ответа можно давать средние значение по выборке по выборке в листе\n",
    "\n",
    "$$a_{m} = \\frac{1}{|X_{m}|} \\sum_{i \\in X_{m}}y_{i}.$$"
   ]
  },
  {
   "cell_type": "markdown",
   "metadata": {
    "id": "RPkm_fHEq2sy"
   },
   "source": [
    "За функционал качества при работе с деревом решений принимается функционал вида:\n",
    "\n",
    "$$Q(X_{m}, j, t) = H(X_{m}) - \\frac{|X_{l}|}{|X_{m}|}H(X_{l}) - \\frac{|X_{r}|}{|X_{m}|}H(X_{r}),$$\n",
    "\n",
    "где $X_{m}$ — множество объектов, попавших в лист на этом шаге, а $X_{l}$ и $X_{r}$ — множества, попадающие в левое и правое поддерево, соответственно, после гипотетического разбиения. $H(X)$ — _критерий информативности_. Он оценивает качество распределения объектов в подмножестве и тем меньше, чем меньше разнообразие ответов в $X$, соответственно, задача обучения состоит в его минимизации и максимизации $Q(X_{m}, j, t)$ на этом шаге."
   ]
  },
  {
   "cell_type": "markdown",
   "metadata": {
    "id": "we9I55hZrFEa"
   },
   "source": [
    "### Критерий информативности"
   ]
  },
  {
   "cell_type": "markdown",
   "metadata": {
    "id": "JKicn9OjrLiD"
   },
   "source": [
    "В случае регрессии разброс будет характретизваться дисперсией, поэтому критерий информативности будет записан в виде\n",
    "\n",
    "$$H(X) = \\frac{1}{X}\\sum_{i\\in X}(y_{i} - \\bar{y}(X))^{2}.$$"
   ]
  },
  {
   "cell_type": "markdown",
   "metadata": {
    "id": "XeglATtDrNsW"
   },
   "source": [
    "В задаче классификации есть несколько способов определить критерий информативности.\n",
    "\n",
    "Обозначим через $p_{k}$ долю объектов класса $k$ в выборке $X$:\n",
    "\n",
    "$$p_{k} = \\frac{1}{|X|}\\sum_{i\\in X}[y_{i} = k].$$\n",
    "\n",
    "$p_{k}$ будет характеризовать вероятность выдачи класса $k$.\n",
    "\n",
    "_Критерий Джини_, или _индекс Джини_, выглядит следующим образом:\n",
    "\n",
    "$$H(X) = \\sum^{K}_{k=1}p_{k}(1-p_{k}),$$\n",
    "\n",
    "где $K$ — количество классов в наборе данных $X$.\n",
    "\n",
    "Его минимум достигается, когда все объекты в подмножестве относятся к одному классу, а максимум — при равном содержании объектов всех классов. Критерий информативности Джини можно интерпретировать как вероятность ошибки случайного классификатора.\n",
    "\n",
    "Ещё один критерий информативности — _энтропийный критерий_. Он также называется _энтропией Шеннона_ и записывается как\n",
    "\n",
    "$$H(X) = - \\sum^{K}_{k=1}p_{k}\\text{log}_{2}p_{k}.$$\n",
    "\n",
    "Минимум энтропии также достигается, когда все объекты относятся к одному классу, а максимум — при равномерном распределении. Прирост информации есть утрата неопределённости (=уменьшение энтропии). В формуле полагается, что $0\\text{log}_{2}0=0.$"
   ]
  },
  {
   "cell_type": "markdown",
   "metadata": {
    "id": "UVsuOISGrPI3"
   },
   "source": [
    "### Остановка построения дерева\n",
    "\n",
    "_Критерии останова_ — это критерий, который показывает, надо ли остановить процесс построения дерева. Правильный выбор критериев останова, относящихся к росту дерева, может существенно повлиять на его качество. Существует множество возможных ограничений:\n",
    "\n",
    "- Ограничение максимальной глубины дерева. Этот критерий считается довольно грубым, но хорошо зарекомендовавшим себя в построении композиций деревьев — когда несколько деревьев объединяются в один алгоритм.\n",
    "\n",
    "\n",
    "- Ограничение максимального количества листьев.\n",
    "\n",
    "\n",
    "- Ограничение минимального количества $n$ объектов в листе. Оно должно быть достаточным, чтобы построить надёжный прогноз.\n",
    "\n",
    "\n",
    "- Останов, когда все объекты в листе относятся к одному классу.\n",
    "\n",
    "- Требование улучшения функционала качества при разбиении на какую-то минимальную величину."
   ]
  },
  {
   "cell_type": "code",
   "execution_count": 3,
   "metadata": {
    "id": "sfn5b0UxrHH5"
   },
   "outputs": [],
   "source": [
    "import matplotlib.pyplot as plt\n",
    "import random\n",
    "\n",
    "from matplotlib.colors import ListedColormap\n",
    "from sklearn import datasets\n",
    "\n",
    "import numpy as np"
   ]
  },
  {
   "cell_type": "code",
   "execution_count": 4,
   "metadata": {
    "colab": {
     "base_uri": "https://localhost:8080/",
     "height": 483
    },
    "id": "NuuTDnSTr32O",
    "outputId": "ddc6ae78-bc93-4f57-8ae3-169f4f49fd3e"
   },
   "outputs": [
    {
     "data": {
      "image/png": "[encoded data removed]",
      "text/plain": [
       "<Figure size 800x800 with 1 Axes>"
      ]
     },
     "metadata": {},
     "output_type": "display_data"
    }
   ],
   "source": [
    "# сгенерируем и визуализируем данные\n",
    "classification_data, classification_labels = datasets.make_classification(n_features = 2, n_informative = 2,\n",
    "                                                      n_classes = 2, n_redundant=0,\n",
    "                                                      n_clusters_per_class=1, random_state=5)\n",
    "\n",
    "colors = ListedColormap(['red', 'blue'])\n",
    "light_colors = ListedColormap(['lightcoral', 'lightblue'])\n",
    "\n",
    "plt.figure(figsize=(8,8))\n",
    "plt.scatter(list(map(lambda x: x[0], classification_data)), list(map(lambda x: x[1], classification_data)),\n",
    "              c=classification_labels, cmap=colors)\n",
    "plt.show()"
   ]
  },
  {
   "cell_type": "code",
   "execution_count": 5,
   "metadata": {
    "id": "bsaJwErbr89s"
   },
   "outputs": [],
   "source": [
    "# Реализуем класс узла\n",
    "\n",
    "class Node:\n",
    "\n",
    "    def __init__(self, index, t, true_branch, false_branch):\n",
    "        self.index = index  # индекс признака, по которому ведётся сравнение с порогом в этом узле\n",
    "        self.t = t  # значение порога\n",
    "        self.true_branch = true_branch  # поддерево, удовлетворяющее условию в узле\n",
    "        self.false_branch = false_branch  # поддерево, не удовлетворяющее условию в узле"
   ]
  },
  {
   "cell_type": "code",
   "execution_count": 6,
   "metadata": {
    "id": "NXm5uEFZr_kE"
   },
   "outputs": [],
   "source": [
    "# Реализуем класс листа листа\n",
    "\n",
    "class Leaf:\n",
    "    def __init__(self, data, labels):\n",
    "        self.prediction = self.predict(labels)\n",
    "\n",
    "    def predict(self, labels):\n",
    "        classes, counts = np.unique(labels, return_counts=True)\n",
    "        return classes[np.argmax(counts)]"
   ]
  },
  {
   "cell_type": "code",
   "execution_count": null,
   "metadata": {
    "id": "SQedNB6ZsElI"
   },
   "outputs": [],
   "source": [
    "# Расчёт критерия Джини\n",
    "\n",
    "def gini(labels):\n",
    "    _, counts = np.unique(labels, return_counts=True) \n",
    "    probs = counts / counts.sum()\n",
    "    return np.sum(probs * (1 - probs))"
   ]
  },
  {
   "cell_type": "code",
   "execution_count": null,
   "metadata": {
    "id": "tmaD5rUFsS3i"
   },
   "outputs": [],
   "source": [
    "# Расчёт качества\n",
    "\n",
    "def quality(left_labels, right_labels, current_gini):\n",
    "    left_weight = len(left_labels) / (len(left_labels) + len(right_labels))\n",
    "    return current_gini - left_weight * gini(left_labels) - (1 - left_weight) * gini(right_labels)"
   ]
  },
  {
   "cell_type": "code",
   "execution_count": null,
   "metadata": {
    "id": "k2aCRpHUsUOQ"
   },
   "outputs": [],
   "source": [
    "# Разбиение выборки на две части\n",
    "\n",
    "def split(data, labels, index, t):\n",
    "    left_mask = data[:, index] <= t\n",
    "    right_mask = data[:, index] > t\n",
    "    \n",
    "    true_data = data[left_mask]\n",
    "    false_data = data[right_mask]\n",
    "    true_labels = labels[left_mask]\n",
    "    false_labels = labels[right_mask]\n",
    "\n",
    "    return true_data, false_data, true_labels, false_labels"
   ]
  },
  {
   "cell_type": "code",
   "execution_count": null,
   "metadata": {
    "id": "x7KM5ZfusYzS"
   },
   "outputs": [],
   "source": [
    "# Нахождение наилучшего разбиения\n",
    "\n",
    "def find_best_split(data, labels):\n",
    "    best_quality = -1\n",
    "    best_t = None\n",
    "    best_index = None\n",
    "    current_gini = gini(labels)\n",
    "    \n",
    "    n_features = data.shape[1]\n",
    "    for index in range(n_features):\n",
    "        thresholds = np.unique(data[:, index])\n",
    "        for t in thresholds:\n",
    "            left_data, left_labels, right_data, right_labels = split(data, labels, index, t)\n",
    "            if len(left_labels) == 0 or len(right_labels) == 0:\n",
    "                continue\n",
    "            \n",
    "            current_quality = quality(left_labels, right_labels, current_gini)\n",
    "            if current_quality > best_quality:\n",
    "                best_quality = current_quality\n",
    "                best_t = t\n",
    "                best_index = index\n",
    "    \n",
    "    return best_quality, best_t, best_index"
   ]
  },
  {
   "cell_type": "code",
   "execution_count": null,
   "metadata": {
    "id": "D3w2PS3JsdZi"
   },
   "outputs": [],
   "source": [
    "# Построение дерева посредством рекурсивной функции\n",
    "\n",
    "def build_tree(data, labels, min_leaf=5):\n",
    "    if len(data) <= min_leaf or len(np.unique(labels)) == 1:\n",
    "        return Leaf(data, labels)\n",
    "    \n",
    "    best_quality, best_t, best_index = find_best_split(data, labels)\n",
    "    if best_quality == -1:\n",
    "        return Leaf(data, labels)\n",
    "    \n",
    "    left_data, left_labels, right_data, right_labels = split(data, labels, best_index, best_t)\n",
    "    true_branch = build_tree(left_data, left_labels, min_leaf)\n",
    "    false_branch = build_tree(right_data, right_labels, min_leaf)\n",
    "    \n",
    "    return Node(best_index, best_t, true_branch, false_branch)"
   ]
  },
  {
   "cell_type": "code",
   "execution_count": 12,
   "metadata": {
    "id": "nti2rQKssgE-"
   },
   "outputs": [],
   "source": [
    "# Проход объекта по дереву для его классификации\n",
    "\n",
    "def classify_object(obj, node):\n",
    "    if isinstance(node, Leaf):\n",
    "        return node.prediction\n",
    "    \n",
    "    if obj[node.index] <= node.t:\n",
    "        return classify_object(obj, node.true_branch)\n",
    "    else:\n",
    "        return classify_object(obj, node.false_branch)"
   ]
  },
  {
   "cell_type": "code",
   "execution_count": 13,
   "metadata": {
    "id": "ucHw2geXsh1n"
   },
   "outputs": [],
   "source": [
    "# Предсказание деревом для всего датасета\n",
    "\n",
    "def predict(data, tree):\n",
    "    return np.array([classify_object(obj, tree) for obj in data])"
   ]
  },
  {
   "cell_type": "code",
   "execution_count": 14,
   "metadata": {
    "id": "gU2moI-6sjDS"
   },
   "outputs": [],
   "source": [
    "# Разобьём выборку на обучающую и тестовую\n",
    "\n",
    "from sklearn import model_selection\n",
    "\n",
    "train_data, test_data, train_labels, test_labels = model_selection.train_test_split(classification_data,\n",
    "                                                                                     classification_labels,\n",
    "                                                                                     test_size = 0.3,\n",
    "                                                                                     random_state = 1)"
   ]
  },
  {
   "cell_type": "code",
   "execution_count": 15,
   "metadata": {
    "id": "PUc4eReDskIC"
   },
   "outputs": [],
   "source": [
    "# Построим дерево по обучающей выборке\n",
    "my_tree = build_tree(train_data, train_labels)"
   ]
  },
  {
   "cell_type": "code",
   "execution_count": 16,
   "metadata": {
    "colab": {
     "base_uri": "https://localhost:8080/"
    },
    "id": "zAK6lp_-sl7_",
    "outputId": "09687a2e-42f0-4d3c-e7ff-b777c50d87f9"
   },
   "outputs": [
    {
     "name": "stdout",
     "output_type": "stream",
     "text": [
      "Индекс 0\n",
      "Порог 0.16261402870113306\n",
      "--> True:\n",
      "  Индекс 1\n",
      "  Порог -1.5208896621663803\n",
      "  --> True:\n",
      "    Индекс 0\n",
      "    Порог -0.9478301462477035\n",
      "    --> True:\n",
      "      Прогноз: 0\n",
      "    --> False:\n",
      "      Индекс 0\n",
      "      Порог -0.4942656820712277\n",
      "      --> True:\n",
      "        Прогноз: 0\n",
      "      --> False:\n",
      "        Прогноз: 1\n",
      "  --> False:\n",
      "    Прогноз: 0\n",
      "--> False:\n",
      "  Прогноз: 1\n"
     ]
    }
   ],
   "source": [
    "# Напечатаем ход нашего дерева\n",
    "def print_tree(node, spacing=\"\"):\n",
    "\n",
    "    # Если лист, то выводим его прогноз\n",
    "    if isinstance(node, Leaf):\n",
    "        print(spacing + \"Прогноз:\", node.prediction)\n",
    "        return\n",
    "\n",
    "    # Выведем значение индекса и порога на этом узле\n",
    "    print(spacing + 'Индекс', str(node.index))\n",
    "    print(spacing + 'Порог', str(node.t))\n",
    "\n",
    "    # Рекурсионный вызов функции на положительном поддереве\n",
    "    print (spacing + '--> True:')\n",
    "    print_tree(node.true_branch, spacing + \"  \")\n",
    "\n",
    "    # Рекурсионный вызов функции на положительном поддереве\n",
    "    print (spacing + '--> False:')\n",
    "    print_tree(node.false_branch, spacing + \"  \")\n",
    "\n",
    "print_tree(my_tree)"
   ]
  },
  {
   "cell_type": "code",
   "execution_count": 17,
   "metadata": {
    "id": "7sq-P6-is9Kz"
   },
   "outputs": [],
   "source": [
    "# Получим ответы для обучающей выборки\n",
    "train_answers = predict(train_data, my_tree)"
   ]
  },
  {
   "cell_type": "code",
   "execution_count": 18,
   "metadata": {
    "id": "trVzD6p7szGy"
   },
   "outputs": [],
   "source": [
    "# Получим ответы для тестовой выборки\n",
    "answers = predict(test_data, my_tree)"
   ]
  },
  {
   "cell_type": "code",
   "execution_count": 19,
   "metadata": {
    "id": "DCwC7_ajs0sl"
   },
   "outputs": [],
   "source": [
    "# Введём функцию подсчёта точности\n",
    "def accuracy_metric(actual, predicted):\n",
    "    correct = 0\n",
    "    for i in range(len(actual)):\n",
    "        if actual[i] == predicted[i]:\n",
    "            correct += 1\n",
    "    return correct / float(len(actual)) * 100.0"
   ]
  },
  {
   "cell_type": "code",
   "execution_count": 20,
   "metadata": {
    "colab": {
     "base_uri": "https://localhost:8080/"
    },
    "id": "WBkqggbCs1_L",
    "outputId": "14bf7d2f-5189-4755-a5b8-dc655a04e125"
   },
   "outputs": [
    {
     "data": {
      "text/plain": [
       "98.57142857142858"
      ]
     },
     "execution_count": 20,
     "metadata": {},
     "output_type": "execute_result"
    }
   ],
   "source": [
    "# Точность на обучающей выборке\n",
    "train_accuracy = accuracy_metric(train_labels, train_answers)\n",
    "train_accuracy"
   ]
  },
  {
   "cell_type": "code",
   "execution_count": 21,
   "metadata": {
    "colab": {
     "base_uri": "https://localhost:8080/"
    },
    "id": "-P1ONXVotAJI",
    "outputId": "5c8b2b92-d812-4aa0-9c91-16e591c960f2"
   },
   "outputs": [
    {
     "data": {
      "text/plain": [
       "96.66666666666667"
      ]
     },
     "execution_count": 21,
     "metadata": {},
     "output_type": "execute_result"
    }
   ],
   "source": [
    "# Точность на тестовой выборке\n",
    "test_accuracy = accuracy_metric(test_labels, answers)\n",
    "test_accuracy"
   ]
  },
  {
   "cell_type": "code",
   "execution_count": 22,
   "metadata": {
    "colab": {
     "base_uri": "https://localhost:8080/",
     "height": 444
    },
    "id": "gFEN8Q31tB4J",
    "outputId": "3b3bacd1-348b-486b-f766-d5fc61653eb2"
   },
   "outputs": [
    {
     "data": {
      "image/png": "[encoded data removed]",
      "text/plain": [
       "<Figure size 1600x700 with 2 Axes>"
      ]
     },
     "metadata": {},
     "output_type": "display_data"
    }
   ],
   "source": [
    "# Визуализируем дерево на графике\n",
    "\n",
    "def get_meshgrid(data, step=.05, border=1.2):\n",
    "    x_min, x_max = data[:, 0].min() - border, data[:, 0].max() + border\n",
    "    y_min, y_max = data[:, 1].min() - border, data[:, 1].max() + border\n",
    "    return np.meshgrid(np.arange(x_min, x_max, step), np.arange(y_min, y_max, step))\n",
    "\n",
    "plt.figure(figsize = (16, 7))\n",
    "\n",
    "# график обучающей выборки\n",
    "plt.subplot(1,2,1)\n",
    "xx, yy = get_meshgrid(train_data)\n",
    "mesh_predictions = np.array(predict(np.c_[xx.ravel(), yy.ravel()], my_tree)).reshape(xx.shape)\n",
    "\n",
    "#print(np.c_[xx.ravel(), yy.ravel()])\n",
    "\n",
    "plt.pcolormesh(xx, yy, mesh_predictions, cmap = light_colors)\n",
    "plt.scatter(train_data[:, 0], train_data[:, 1], c = train_labels, cmap = colors)\n",
    "plt.title(f'Train accuracy={train_accuracy:.2f}')\n",
    "\n",
    "# график тестовой выборки\n",
    "plt.subplot(1,2,2)\n",
    "plt.pcolormesh(xx, yy, mesh_predictions, cmap = light_colors)\n",
    "plt.scatter(test_data[:, 0], test_data[:, 1], c = test_labels, cmap = colors)\n",
    "plt.title(f'Test accuracy={test_accuracy:.2f}')\n",
    "plt.show()\n"
   ]
  },
  {
   "cell_type": "code",
   "execution_count": null,
   "metadata": {},
   "outputs": [],
   "source": []
  }
 ],
 "metadata": {
  "colab": {
   "provenance": []
  },
  "kernelspec": {
   "display_name": "Python 3 (ipykernel)",
   "language": "python",
   "name": "python3"
  },
  "language_info": {
   "codemirror_mode": {
    "name": "ipython",
    "version": 3
   },
   "file_extension": ".py",
   "mimetype": "text/x-python",
   "name": "python",
   "nbconvert_exporter": "python",
   "pygments_lexer": "ipython3",
   "version": "3.10.12"
  }
 },
 "nbformat": 4,
 "nbformat_minor": 4
}
