{
  "nbformat": 4,
  "nbformat_minor": 0,
  "metadata": {
    "colab": {
      "provenance": []
    },
    "kernelspec": {
      "name": "python3",
      "display_name": "Python 3"
    },
    "language_info": {
      "name": "python"
    }
  },
  "cells": [
    {
      "cell_type": "markdown",
      "source": [
        "# Получение данных"
      ],
      "metadata": {
        "id": "FrkwRTLChg6B"
      }
    },
    {
      "cell_type": "code",
      "execution_count": 206,
      "metadata": {
        "id": "ngM2xyexYAeX"
      },
      "outputs": [],
      "source": [
        "import pandas as pd\n",
        "from matplotlib import pyplot as plt\n",
        "import numpy as np\n",
        "from scipy import stats\n",
        "import seaborn as sns\n",
        "from itertools import *\n",
        "\n",
        "# import opendatasets as od"
      ]
    },
    {
      "cell_type": "code",
      "source": [
        "# ! pip install kaggle"
      ],
      "metadata": {
        "collapsed": true,
        "id": "J41D1dntYdKP"
      },
      "execution_count": 207,
      "outputs": []
    },
    {
      "cell_type": "code",
      "source": [
        "! mkdir ~/.kaggle\n",
        "! cp kaggle.json ~/.kaggle/\n",
        "! chmod 600 ~/.kaggle/kaggle.json"
      ],
      "metadata": {
        "id": "VrLsuFNFTTcP",
        "colab": {
          "base_uri": "https://localhost:8080/"
        },
        "outputId": "f4ca0317-dbe3-486b-eb0d-52f55ff290c2"
      },
      "execution_count": 208,
      "outputs": [
        {
          "output_type": "stream",
          "name": "stdout",
          "text": [
            "mkdir: cannot create directory ‘/root/.kaggle’: File exists\n",
            "cp: cannot stat 'kaggle.json': No such file or directory\n",
            "chmod: cannot access '/root/.kaggle/kaggle.json': No such file or directory\n"
          ]
        }
      ]
    },
    {
      "cell_type": "code",
      "source": [
        "! kaggle datasets download unsdsn/world-happiness"
      ],
      "metadata": {
        "collapsed": true,
        "id": "qgIsVeEVZ_1I",
        "colab": {
          "base_uri": "https://localhost:8080/"
        },
        "outputId": "7ee65de4-7eed-432a-b6ec-31e540d29eea"
      },
      "execution_count": 209,
      "outputs": [
        {
          "output_type": "stream",
          "name": "stdout",
          "text": [
            "Dataset URL: https://www.kaggle.com/datasets/unsdsn/world-happiness\n",
            "License(s): CC0-1.0\n",
            "world-happiness.zip: Skipping, found more recently modified local copy (use --force to force download)\n"
          ]
        }
      ]
    },
    {
      "cell_type": "code",
      "source": [
        "# ! unzip world-happiness.zip"
      ],
      "metadata": {
        "id": "41_0BptOmklW"
      },
      "execution_count": 210,
      "outputs": []
    },
    {
      "cell_type": "code",
      "source": [
        "df = pd.read_csv('2019.csv')\n",
        "df.head(10)"
      ],
      "metadata": {
        "id": "ByM7DLRBe9CA",
        "colab": {
          "base_uri": "https://localhost:8080/",
          "height": 427
        },
        "outputId": "35eb07b5-3f83-444e-b2c8-f916f81911d5"
      },
      "execution_count": 211,
      "outputs": [
        {
          "output_type": "execute_result",
          "data": {
            "text/plain": [
              "   Overall rank Country or region  Score  GDP per capita  Social support  \\\n",
              "0             1           Finland  7.769           1.340           1.587   \n",
              "1             2           Denmark  7.600           1.383           1.573   \n",
              "2             3            Norway  7.554           1.488           1.582   \n",
              "3             4           Iceland  7.494           1.380           1.624   \n",
              "4             5       Netherlands  7.488           1.396           1.522   \n",
              "5             6       Switzerland  7.480           1.452           1.526   \n",
              "6             7            Sweden  7.343           1.387           1.487   \n",
              "7             8       New Zealand  7.307           1.303           1.557   \n",
              "8             9            Canada  7.278           1.365           1.505   \n",
              "9            10           Austria  7.246           1.376           1.475   \n",
              "\n",
              "   Healthy life expectancy  Freedom to make life choices  Generosity  \\\n",
              "0                    0.986                         0.596       0.153   \n",
              "1                    0.996                         0.592       0.252   \n",
              "2                    1.028                         0.603       0.271   \n",
              "3                    1.026                         0.591       0.354   \n",
              "4                    0.999                         0.557       0.322   \n",
              "5                    1.052                         0.572       0.263   \n",
              "6                    1.009                         0.574       0.267   \n",
              "7                    1.026                         0.585       0.330   \n",
              "8                    1.039                         0.584       0.285   \n",
              "9                    1.016                         0.532       0.244   \n",
              "\n",
              "   Perceptions of corruption  \n",
              "0                      0.393  \n",
              "1                      0.410  \n",
              "2                      0.341  \n",
              "3                      0.118  \n",
              "4                      0.298  \n",
              "5                      0.343  \n",
              "6                      0.373  \n",
              "7                      0.380  \n",
              "8                      0.308  \n",
              "9                      0.226  "
            ],
            "text/html": [
              "\n",
              "  <div id=\"df-cfacab9d-8cd6-4c5d-ae97-4f7c0edab703\" class=\"colab-df-container\">\n",
              "    <div>\n",
              "<style scoped>\n",
              "    .dataframe tbody tr th:only-of-type {\n",
              "        vertical-align: middle;\n",
              "    }\n",
              "\n",
              "    .dataframe tbody tr th {\n",
              "        vertical-align: top;\n",
              "    }\n",
              "\n",
              "    .dataframe thead th {\n",
              "        text-align: right;\n",
              "    }\n",
              "</style>\n",
              "<table border=\"1\" class=\"dataframe\">\n",
              "  <thead>\n",
              "    <tr style=\"text-align: right;\">\n",
              "      <th></th>\n",
              "      <th>Overall rank</th>\n",
              "      <th>Country or region</th>\n",
              "      <th>Score</th>\n",
              "      <th>GDP per capita</th>\n",
              "      <th>Social support</th>\n",
              "      <th>Healthy life expectancy</th>\n",
              "      <th>Freedom to make life choices</th>\n",
              "      <th>Generosity</th>\n",
              "      <th>Perceptions of corruption</th>\n",
              "    </tr>\n",
              "  </thead>\n",
              "  <tbody>\n",
              "    <tr>\n",
              "      <th>0</th>\n",
              "      <td>1</td>\n",
              "      <td>Finland</td>\n",
              "      <td>7.769</td>\n",
              "      <td>1.340</td>\n",
              "      <td>1.587</td>\n",
              "      <td>0.986</td>\n",
              "      <td>0.596</td>\n",
              "      <td>0.153</td>\n",
              "      <td>0.393</td>\n",
              "    </tr>\n",
              "    <tr>\n",
              "      <th>1</th>\n",
              "      <td>2</td>\n",
              "      <td>Denmark</td>\n",
              "      <td>7.600</td>\n",
              "      <td>1.383</td>\n",
              "      <td>1.573</td>\n",
              "      <td>0.996</td>\n",
              "      <td>0.592</td>\n",
              "      <td>0.252</td>\n",
              "      <td>0.410</td>\n",
              "    </tr>\n",
              "    <tr>\n",
              "      <th>2</th>\n",
              "      <td>3</td>\n",
              "      <td>Norway</td>\n",
              "      <td>7.554</td>\n",
              "      <td>1.488</td>\n",
              "      <td>1.582</td>\n",
              "      <td>1.028</td>\n",
              "      <td>0.603</td>\n",
              "      <td>0.271</td>\n",
              "      <td>0.341</td>\n",
              "    </tr>\n",
              "    <tr>\n",
              "      <th>3</th>\n",
              "      <td>4</td>\n",
              "      <td>Iceland</td>\n",
              "      <td>7.494</td>\n",
              "      <td>1.380</td>\n",
              "      <td>1.624</td>\n",
              "      <td>1.026</td>\n",
              "      <td>0.591</td>\n",
              "      <td>0.354</td>\n",
              "      <td>0.118</td>\n",
              "    </tr>\n",
              "    <tr>\n",
              "      <th>4</th>\n",
              "      <td>5</td>\n",
              "      <td>Netherlands</td>\n",
              "      <td>7.488</td>\n",
              "      <td>1.396</td>\n",
              "      <td>1.522</td>\n",
              "      <td>0.999</td>\n",
              "      <td>0.557</td>\n",
              "      <td>0.322</td>\n",
              "      <td>0.298</td>\n",
              "    </tr>\n",
              "    <tr>\n",
              "      <th>5</th>\n",
              "      <td>6</td>\n",
              "      <td>Switzerland</td>\n",
              "      <td>7.480</td>\n",
              "      <td>1.452</td>\n",
              "      <td>1.526</td>\n",
              "      <td>1.052</td>\n",
              "      <td>0.572</td>\n",
              "      <td>0.263</td>\n",
              "      <td>0.343</td>\n",
              "    </tr>\n",
              "    <tr>\n",
              "      <th>6</th>\n",
              "      <td>7</td>\n",
              "      <td>Sweden</td>\n",
              "      <td>7.343</td>\n",
              "      <td>1.387</td>\n",
              "      <td>1.487</td>\n",
              "      <td>1.009</td>\n",
              "      <td>0.574</td>\n",
              "      <td>0.267</td>\n",
              "      <td>0.373</td>\n",
              "    </tr>\n",
              "    <tr>\n",
              "      <th>7</th>\n",
              "      <td>8</td>\n",
              "      <td>New Zealand</td>\n",
              "      <td>7.307</td>\n",
              "      <td>1.303</td>\n",
              "      <td>1.557</td>\n",
              "      <td>1.026</td>\n",
              "      <td>0.585</td>\n",
              "      <td>0.330</td>\n",
              "      <td>0.380</td>\n",
              "    </tr>\n",
              "    <tr>\n",
              "      <th>8</th>\n",
              "      <td>9</td>\n",
              "      <td>Canada</td>\n",
              "      <td>7.278</td>\n",
              "      <td>1.365</td>\n",
              "      <td>1.505</td>\n",
              "      <td>1.039</td>\n",
              "      <td>0.584</td>\n",
              "      <td>0.285</td>\n",
              "      <td>0.308</td>\n",
              "    </tr>\n",
              "    <tr>\n",
              "      <th>9</th>\n",
              "      <td>10</td>\n",
              "      <td>Austria</td>\n",
              "      <td>7.246</td>\n",
              "      <td>1.376</td>\n",
              "      <td>1.475</td>\n",
              "      <td>1.016</td>\n",
              "      <td>0.532</td>\n",
              "      <td>0.244</td>\n",
              "      <td>0.226</td>\n",
              "    </tr>\n",
              "  </tbody>\n",
              "</table>\n",
              "</div>\n",
              "    <div class=\"colab-df-buttons\">\n",
              "\n",
              "  <div class=\"colab-df-container\">\n",
              "    <button class=\"colab-df-convert\" onclick=\"convertToInteractive('df-cfacab9d-8cd6-4c5d-ae97-4f7c0edab703')\"\n",
              "            title=\"Convert this dataframe to an interactive table.\"\n",
              "            style=\"display:none;\">\n",
              "\n",
              "  <svg xmlns=\"http://www.w3.org/2000/svg\" height=\"24px\" viewBox=\"0 -960 960 960\">\n",
              "    <path d=\"M120-120v-720h720v720H120Zm60-500h600v-160H180v160Zm220 220h160v-160H400v160Zm0 220h160v-160H400v160ZM180-400h160v-160H180v160Zm440 0h160v-160H620v160ZM180-180h160v-160H180v160Zm440 0h160v-160H620v160Z\"/>\n",
              "  </svg>\n",
              "    </button>\n",
              "\n",
              "  <style>\n",
              "    .colab-df-container {\n",
              "      display:flex;\n",
              "      gap: 12px;\n",
              "    }\n",
              "\n",
              "    .colab-df-convert {\n",
              "      background-color: #E8F0FE;\n",
              "      border: none;\n",
              "      border-radius: 50%;\n",
              "      cursor: pointer;\n",
              "      display: none;\n",
              "      fill: #1967D2;\n",
              "      height: 32px;\n",
              "      padding: 0 0 0 0;\n",
              "      width: 32px;\n",
              "    }\n",
              "\n",
              "    .colab-df-convert:hover {\n",
              "      background-color: #E2EBFA;\n",
              "      box-shadow: 0px 1px 2px rgba(60, 64, 67, 0.3), 0px 1px 3px 1px rgba(60, 64, 67, 0.15);\n",
              "      fill: #174EA6;\n",
              "    }\n",
              "\n",
              "    .colab-df-buttons div {\n",
              "      margin-bottom: 4px;\n",
              "    }\n",
              "\n",
              "    [theme=dark] .colab-df-convert {\n",
              "      background-color: #3B4455;\n",
              "      fill: #D2E3FC;\n",
              "    }\n",
              "\n",
              "    [theme=dark] .colab-df-convert:hover {\n",
              "      background-color: #434B5C;\n",
              "      box-shadow: 0px 1px 3px 1px rgba(0, 0, 0, 0.15);\n",
              "      filter: drop-shadow(0px 1px 2px rgba(0, 0, 0, 0.3));\n",
              "      fill: #FFFFFF;\n",
              "    }\n",
              "  </style>\n",
              "\n",
              "    <script>\n",
              "      const buttonEl =\n",
              "        document.querySelector('#df-cfacab9d-8cd6-4c5d-ae97-4f7c0edab703 button.colab-df-convert');\n",
              "      buttonEl.style.display =\n",
              "        google.colab.kernel.accessAllowed ? 'block' : 'none';\n",
              "\n",
              "      async function convertToInteractive(key) {\n",
              "        const element = document.querySelector('#df-cfacab9d-8cd6-4c5d-ae97-4f7c0edab703');\n",
              "        const dataTable =\n",
              "          await google.colab.kernel.invokeFunction('convertToInteractive',\n",
              "                                                    [key], {});\n",
              "        if (!dataTable) return;\n",
              "\n",
              "        const docLinkHtml = 'Like what you see? Visit the ' +\n",
              "          '<a target=\"_blank\" href=https://colab.research.google.com/notebooks/data_table.ipynb>data table notebook</a>'\n",
              "          + ' to learn more about interactive tables.';\n",
              "        element.innerHTML = '';\n",
              "        dataTable['output_type'] = 'display_data';\n",
              "        await google.colab.output.renderOutput(dataTable, element);\n",
              "        const docLink = document.createElement('div');\n",
              "        docLink.innerHTML = docLinkHtml;\n",
              "        element.appendChild(docLink);\n",
              "      }\n",
              "    </script>\n",
              "  </div>\n",
              "\n",
              "\n",
              "<div id=\"df-76ca90b6-d47e-4c9b-86cb-b328187d6183\">\n",
              "  <button class=\"colab-df-quickchart\" onclick=\"quickchart('df-76ca90b6-d47e-4c9b-86cb-b328187d6183')\"\n",
              "            title=\"Suggest charts\"\n",
              "            style=\"display:none;\">\n",
              "\n",
              "<svg xmlns=\"http://www.w3.org/2000/svg\" height=\"24px\"viewBox=\"0 0 24 24\"\n",
              "     width=\"24px\">\n",
              "    <g>\n",
              "        <path d=\"M19 3H5c-1.1 0-2 .9-2 2v14c0 1.1.9 2 2 2h14c1.1 0 2-.9 2-2V5c0-1.1-.9-2-2-2zM9 17H7v-7h2v7zm4 0h-2V7h2v10zm4 0h-2v-4h2v4z\"/>\n",
              "    </g>\n",
              "</svg>\n",
              "  </button>\n",
              "\n",
              "<style>\n",
              "  .colab-df-quickchart {\n",
              "      --bg-color: #E8F0FE;\n",
              "      --fill-color: #1967D2;\n",
              "      --hover-bg-color: #E2EBFA;\n",
              "      --hover-fill-color: #174EA6;\n",
              "      --disabled-fill-color: #AAA;\n",
              "      --disabled-bg-color: #DDD;\n",
              "  }\n",
              "\n",
              "  [theme=dark] .colab-df-quickchart {\n",
              "      --bg-color: #3B4455;\n",
              "      --fill-color: #D2E3FC;\n",
              "      --hover-bg-color: #434B5C;\n",
              "      --hover-fill-color: #FFFFFF;\n",
              "      --disabled-bg-color: #3B4455;\n",
              "      --disabled-fill-color: #666;\n",
              "  }\n",
              "\n",
              "  .colab-df-quickchart {\n",
              "    background-color: var(--bg-color);\n",
              "    border: none;\n",
              "    border-radius: 50%;\n",
              "    cursor: pointer;\n",
              "    display: none;\n",
              "    fill: var(--fill-color);\n",
              "    height: 32px;\n",
              "    padding: 0;\n",
              "    width: 32px;\n",
              "  }\n",
              "\n",
              "  .colab-df-quickchart:hover {\n",
              "    background-color: var(--hover-bg-color);\n",
              "    box-shadow: 0 1px 2px rgba(60, 64, 67, 0.3), 0 1px 3px 1px rgba(60, 64, 67, 0.15);\n",
              "    fill: var(--button-hover-fill-color);\n",
              "  }\n",
              "\n",
              "  .colab-df-quickchart-complete:disabled,\n",
              "  .colab-df-quickchart-complete:disabled:hover {\n",
              "    background-color: var(--disabled-bg-color);\n",
              "    fill: var(--disabled-fill-color);\n",
              "    box-shadow: none;\n",
              "  }\n",
              "\n",
              "  .colab-df-spinner {\n",
              "    border: 2px solid var(--fill-color);\n",
              "    border-color: transparent;\n",
              "    border-bottom-color: var(--fill-color);\n",
              "    animation:\n",
              "      spin 1s steps(1) infinite;\n",
              "  }\n",
              "\n",
              "  @keyframes spin {\n",
              "    0% {\n",
              "      border-color: transparent;\n",
              "      border-bottom-color: var(--fill-color);\n",
              "      border-left-color: var(--fill-color);\n",
              "    }\n",
              "    20% {\n",
              "      border-color: transparent;\n",
              "      border-left-color: var(--fill-color);\n",
              "      border-top-color: var(--fill-color);\n",
              "    }\n",
              "    30% {\n",
              "      border-color: transparent;\n",
              "      border-left-color: var(--fill-color);\n",
              "      border-top-color: var(--fill-color);\n",
              "      border-right-color: var(--fill-color);\n",
              "    }\n",
              "    40% {\n",
              "      border-color: transparent;\n",
              "      border-right-color: var(--fill-color);\n",
              "      border-top-color: var(--fill-color);\n",
              "    }\n",
              "    60% {\n",
              "      border-color: transparent;\n",
              "      border-right-color: var(--fill-color);\n",
              "    }\n",
              "    80% {\n",
              "      border-color: transparent;\n",
              "      border-right-color: var(--fill-color);\n",
              "      border-bottom-color: var(--fill-color);\n",
              "    }\n",
              "    90% {\n",
              "      border-color: transparent;\n",
              "      border-bottom-color: var(--fill-color);\n",
              "    }\n",
              "  }\n",
              "</style>\n",
              "\n",
              "  <script>\n",
              "    async function quickchart(key) {\n",
              "      const quickchartButtonEl =\n",
              "        document.querySelector('#' + key + ' button');\n",
              "      quickchartButtonEl.disabled = true;  // To prevent multiple clicks.\n",
              "      quickchartButtonEl.classList.add('colab-df-spinner');\n",
              "      try {\n",
              "        const charts = await google.colab.kernel.invokeFunction(\n",
              "            'suggestCharts', [key], {});\n",
              "      } catch (error) {\n",
              "        console.error('Error during call to suggestCharts:', error);\n",
              "      }\n",
              "      quickchartButtonEl.classList.remove('colab-df-spinner');\n",
              "      quickchartButtonEl.classList.add('colab-df-quickchart-complete');\n",
              "    }\n",
              "    (() => {\n",
              "      let quickchartButtonEl =\n",
              "        document.querySelector('#df-76ca90b6-d47e-4c9b-86cb-b328187d6183 button');\n",
              "      quickchartButtonEl.style.display =\n",
              "        google.colab.kernel.accessAllowed ? 'block' : 'none';\n",
              "    })();\n",
              "  </script>\n",
              "</div>\n",
              "    </div>\n",
              "  </div>\n"
            ],
            "application/vnd.google.colaboratory.intrinsic+json": {
              "type": "dataframe",
              "variable_name": "df",
              "summary": "{\n  \"name\": \"df\",\n  \"rows\": 156,\n  \"fields\": [\n    {\n      \"column\": \"Overall rank\",\n      \"properties\": {\n        \"dtype\": \"number\",\n        \"std\": 45,\n        \"min\": 1,\n        \"max\": 156,\n        \"num_unique_values\": 156,\n        \"samples\": [\n          97,\n          70,\n          83\n        ],\n        \"semantic_type\": \"\",\n        \"description\": \"\"\n      }\n    },\n    {\n      \"column\": \"Country or region\",\n      \"properties\": {\n        \"dtype\": \"string\",\n        \"num_unique_values\": 156,\n        \"samples\": [\n          \"Bulgaria\",\n          \"Serbia\",\n          \"Mongolia\"\n        ],\n        \"semantic_type\": \"\",\n        \"description\": \"\"\n      }\n    },\n    {\n      \"column\": \"Score\",\n      \"properties\": {\n        \"dtype\": \"number\",\n        \"std\": 1.1131198687956712,\n        \"min\": 2.853,\n        \"max\": 7.769,\n        \"num_unique_values\": 155,\n        \"samples\": [\n          5.287,\n          3.802,\n          6.3\n        ],\n        \"semantic_type\": \"\",\n        \"description\": \"\"\n      }\n    },\n    {\n      \"column\": \"GDP per capita\",\n      \"properties\": {\n        \"dtype\": \"number\",\n        \"std\": 0.3983894642422028,\n        \"min\": 0.0,\n        \"max\": 1.684,\n        \"num_unique_values\": 146,\n        \"samples\": [\n          0.882,\n          0.673,\n          1.403\n        ],\n        \"semantic_type\": \"\",\n        \"description\": \"\"\n      }\n    },\n    {\n      \"column\": \"Social support\",\n      \"properties\": {\n        \"dtype\": \"number\",\n        \"std\": 0.2991914006976929,\n        \"min\": 0.0,\n        \"max\": 1.624,\n        \"num_unique_values\": 145,\n        \"samples\": [\n          1.277,\n          0.711,\n          1.313\n        ],\n        \"semantic_type\": \"\",\n        \"description\": \"\"\n      }\n    },\n    {\n      \"column\": \"Healthy life expectancy\",\n      \"properties\": {\n        \"dtype\": \"number\",\n        \"std\": 0.2421239984053725,\n        \"min\": 0.0,\n        \"max\": 1.141,\n        \"num_unique_values\": 119,\n        \"samples\": [\n          1.122,\n          0.428,\n          0.999\n        ],\n        \"semantic_type\": \"\",\n        \"description\": \"\"\n      }\n    },\n    {\n      \"column\": \"Freedom to make life choices\",\n      \"properties\": {\n        \"dtype\": \"number\",\n        \"std\": 0.1432894707060473,\n        \"min\": 0.0,\n        \"max\": 0.631,\n        \"num_unique_values\": 130,\n        \"samples\": [\n          0.514,\n          0.47,\n          0.598\n        ],\n        \"semantic_type\": \"\",\n        \"description\": \"\"\n      }\n    },\n    {\n      \"column\": \"Generosity\",\n      \"properties\": {\n        \"dtype\": \"number\",\n        \"std\": 0.0952544405092202,\n        \"min\": 0.0,\n        \"max\": 0.566,\n        \"num_unique_values\": 118,\n        \"samples\": [\n          0.047,\n          0.177,\n          0.322\n        ],\n        \"semantic_type\": \"\",\n        \"description\": \"\"\n      }\n    },\n    {\n      \"column\": \"Perceptions of corruption\",\n      \"properties\": {\n        \"dtype\": \"number\",\n        \"std\": 0.09453783536745278,\n        \"min\": 0.0,\n        \"max\": 0.453,\n        \"num_unique_values\": 113,\n        \"samples\": [\n          0.04,\n          0.298,\n          0.24\n        ],\n        \"semantic_type\": \"\",\n        \"description\": \"\"\n      }\n    }\n  ]\n}"
            }
          },
          "metadata": {},
          "execution_count": 211
        }
      ]
    },
    {
      "cell_type": "code",
      "source": [
        "df.columns"
      ],
      "metadata": {
        "colab": {
          "base_uri": "https://localhost:8080/"
        },
        "id": "odTJndx8Gmun",
        "outputId": "cea0a451-e12b-4463-b146-bfb11bea13e8"
      },
      "execution_count": 212,
      "outputs": [
        {
          "output_type": "execute_result",
          "data": {
            "text/plain": [
              "Index(['Overall rank', 'Country or region', 'Score', 'GDP per capita',\n",
              "       'Social support', 'Healthy life expectancy',\n",
              "       'Freedom to make life choices', 'Generosity',\n",
              "       'Perceptions of corruption'],\n",
              "      dtype='object')"
            ]
          },
          "metadata": {},
          "execution_count": 212
        }
      ]
    },
    {
      "cell_type": "code",
      "source": [
        "df.drop(columns = ['Overall rank', 'Generosity', 'Perceptions of corruption', 'GDP per capita'], inplace=True)"
      ],
      "metadata": {
        "id": "6Kb1cmYcGrMB"
      },
      "execution_count": 213,
      "outputs": []
    },
    {
      "cell_type": "code",
      "source": [
        "df.describe()"
      ],
      "metadata": {
        "id": "pqB5pdWdi-0D",
        "colab": {
          "base_uri": "https://localhost:8080/",
          "height": 297
        },
        "outputId": "36344320-0366-4212-ae87-d12bf38a4537"
      },
      "execution_count": 214,
      "outputs": [
        {
          "output_type": "execute_result",
          "data": {
            "text/plain": [
              "            Score  Social support  Healthy life expectancy  \\\n",
              "count  156.000000      156.000000               156.000000   \n",
              "mean     5.407096        1.208814                 0.725244   \n",
              "std      1.113120        0.299191                 0.242124   \n",
              "min      2.853000        0.000000                 0.000000   \n",
              "25%      4.544500        1.055750                 0.547750   \n",
              "50%      5.379500        1.271500                 0.789000   \n",
              "75%      6.184500        1.452500                 0.881750   \n",
              "max      7.769000        1.624000                 1.141000   \n",
              "\n",
              "       Freedom to make life choices  \n",
              "count                    156.000000  \n",
              "mean                       0.392571  \n",
              "std                        0.143289  \n",
              "min                        0.000000  \n",
              "25%                        0.308000  \n",
              "50%                        0.417000  \n",
              "75%                        0.507250  \n",
              "max                        0.631000  "
            ],
            "text/html": [
              "\n",
              "  <div id=\"df-78509798-271f-4f8a-a3c1-e5d382ddef08\" class=\"colab-df-container\">\n",
              "    <div>\n",
              "<style scoped>\n",
              "    .dataframe tbody tr th:only-of-type {\n",
              "        vertical-align: middle;\n",
              "    }\n",
              "\n",
              "    .dataframe tbody tr th {\n",
              "        vertical-align: top;\n",
              "    }\n",
              "\n",
              "    .dataframe thead th {\n",
              "        text-align: right;\n",
              "    }\n",
              "</style>\n",
              "<table border=\"1\" class=\"dataframe\">\n",
              "  <thead>\n",
              "    <tr style=\"text-align: right;\">\n",
              "      <th></th>\n",
              "      <th>Score</th>\n",
              "      <th>Social support</th>\n",
              "      <th>Healthy life expectancy</th>\n",
              "      <th>Freedom to make life choices</th>\n",
              "    </tr>\n",
              "  </thead>\n",
              "  <tbody>\n",
              "    <tr>\n",
              "      <th>count</th>\n",
              "      <td>156.000000</td>\n",
              "      <td>156.000000</td>\n",
              "      <td>156.000000</td>\n",
              "      <td>156.000000</td>\n",
              "    </tr>\n",
              "    <tr>\n",
              "      <th>mean</th>\n",
              "      <td>5.407096</td>\n",
              "      <td>1.208814</td>\n",
              "      <td>0.725244</td>\n",
              "      <td>0.392571</td>\n",
              "    </tr>\n",
              "    <tr>\n",
              "      <th>std</th>\n",
              "      <td>1.113120</td>\n",
              "      <td>0.299191</td>\n",
              "      <td>0.242124</td>\n",
              "      <td>0.143289</td>\n",
              "    </tr>\n",
              "    <tr>\n",
              "      <th>min</th>\n",
              "      <td>2.853000</td>\n",
              "      <td>0.000000</td>\n",
              "      <td>0.000000</td>\n",
              "      <td>0.000000</td>\n",
              "    </tr>\n",
              "    <tr>\n",
              "      <th>25%</th>\n",
              "      <td>4.544500</td>\n",
              "      <td>1.055750</td>\n",
              "      <td>0.547750</td>\n",
              "      <td>0.308000</td>\n",
              "    </tr>\n",
              "    <tr>\n",
              "      <th>50%</th>\n",
              "      <td>5.379500</td>\n",
              "      <td>1.271500</td>\n",
              "      <td>0.789000</td>\n",
              "      <td>0.417000</td>\n",
              "    </tr>\n",
              "    <tr>\n",
              "      <th>75%</th>\n",
              "      <td>6.184500</td>\n",
              "      <td>1.452500</td>\n",
              "      <td>0.881750</td>\n",
              "      <td>0.507250</td>\n",
              "    </tr>\n",
              "    <tr>\n",
              "      <th>max</th>\n",
              "      <td>7.769000</td>\n",
              "      <td>1.624000</td>\n",
              "      <td>1.141000</td>\n",
              "      <td>0.631000</td>\n",
              "    </tr>\n",
              "  </tbody>\n",
              "</table>\n",
              "</div>\n",
              "    <div class=\"colab-df-buttons\">\n",
              "\n",
              "  <div class=\"colab-df-container\">\n",
              "    <button class=\"colab-df-convert\" onclick=\"convertToInteractive('df-78509798-271f-4f8a-a3c1-e5d382ddef08')\"\n",
              "            title=\"Convert this dataframe to an interactive table.\"\n",
              "            style=\"display:none;\">\n",
              "\n",
              "  <svg xmlns=\"http://www.w3.org/2000/svg\" height=\"24px\" viewBox=\"0 -960 960 960\">\n",
              "    <path d=\"M120-120v-720h720v720H120Zm60-500h600v-160H180v160Zm220 220h160v-160H400v160Zm0 220h160v-160H400v160ZM180-400h160v-160H180v160Zm440 0h160v-160H620v160ZM180-180h160v-160H180v160Zm440 0h160v-160H620v160Z\"/>\n",
              "  </svg>\n",
              "    </button>\n",
              "\n",
              "  <style>\n",
              "    .colab-df-container {\n",
              "      display:flex;\n",
              "      gap: 12px;\n",
              "    }\n",
              "\n",
              "    .colab-df-convert {\n",
              "      background-color: #E8F0FE;\n",
              "      border: none;\n",
              "      border-radius: 50%;\n",
              "      cursor: pointer;\n",
              "      display: none;\n",
              "      fill: #1967D2;\n",
              "      height: 32px;\n",
              "      padding: 0 0 0 0;\n",
              "      width: 32px;\n",
              "    }\n",
              "\n",
              "    .colab-df-convert:hover {\n",
              "      background-color: #E2EBFA;\n",
              "      box-shadow: 0px 1px 2px rgba(60, 64, 67, 0.3), 0px 1px 3px 1px rgba(60, 64, 67, 0.15);\n",
              "      fill: #174EA6;\n",
              "    }\n",
              "\n",
              "    .colab-df-buttons div {\n",
              "      margin-bottom: 4px;\n",
              "    }\n",
              "\n",
              "    [theme=dark] .colab-df-convert {\n",
              "      background-color: #3B4455;\n",
              "      fill: #D2E3FC;\n",
              "    }\n",
              "\n",
              "    [theme=dark] .colab-df-convert:hover {\n",
              "      background-color: #434B5C;\n",
              "      box-shadow: 0px 1px 3px 1px rgba(0, 0, 0, 0.15);\n",
              "      filter: drop-shadow(0px 1px 2px rgba(0, 0, 0, 0.3));\n",
              "      fill: #FFFFFF;\n",
              "    }\n",
              "  </style>\n",
              "\n",
              "    <script>\n",
              "      const buttonEl =\n",
              "        document.querySelector('#df-78509798-271f-4f8a-a3c1-e5d382ddef08 button.colab-df-convert');\n",
              "      buttonEl.style.display =\n",
              "        google.colab.kernel.accessAllowed ? 'block' : 'none';\n",
              "\n",
              "      async function convertToInteractive(key) {\n",
              "        const element = document.querySelector('#df-78509798-271f-4f8a-a3c1-e5d382ddef08');\n",
              "        const dataTable =\n",
              "          await google.colab.kernel.invokeFunction('convertToInteractive',\n",
              "                                                    [key], {});\n",
              "        if (!dataTable) return;\n",
              "\n",
              "        const docLinkHtml = 'Like what you see? Visit the ' +\n",
              "          '<a target=\"_blank\" href=https://colab.research.google.com/notebooks/data_table.ipynb>data table notebook</a>'\n",
              "          + ' to learn more about interactive tables.';\n",
              "        element.innerHTML = '';\n",
              "        dataTable['output_type'] = 'display_data';\n",
              "        await google.colab.output.renderOutput(dataTable, element);\n",
              "        const docLink = document.createElement('div');\n",
              "        docLink.innerHTML = docLinkHtml;\n",
              "        element.appendChild(docLink);\n",
              "      }\n",
              "    </script>\n",
              "  </div>\n",
              "\n",
              "\n",
              "<div id=\"df-3494e2e7-92c4-474f-b8b5-cc0d0082f92c\">\n",
              "  <button class=\"colab-df-quickchart\" onclick=\"quickchart('df-3494e2e7-92c4-474f-b8b5-cc0d0082f92c')\"\n",
              "            title=\"Suggest charts\"\n",
              "            style=\"display:none;\">\n",
              "\n",
              "<svg xmlns=\"http://www.w3.org/2000/svg\" height=\"24px\"viewBox=\"0 0 24 24\"\n",
              "     width=\"24px\">\n",
              "    <g>\n",
              "        <path d=\"M19 3H5c-1.1 0-2 .9-2 2v14c0 1.1.9 2 2 2h14c1.1 0 2-.9 2-2V5c0-1.1-.9-2-2-2zM9 17H7v-7h2v7zm4 0h-2V7h2v10zm4 0h-2v-4h2v4z\"/>\n",
              "    </g>\n",
              "</svg>\n",
              "  </button>\n",
              "\n",
              "<style>\n",
              "  .colab-df-quickchart {\n",
              "      --bg-color: #E8F0FE;\n",
              "      --fill-color: #1967D2;\n",
              "      --hover-bg-color: #E2EBFA;\n",
              "      --hover-fill-color: #174EA6;\n",
              "      --disabled-fill-color: #AAA;\n",
              "      --disabled-bg-color: #DDD;\n",
              "  }\n",
              "\n",
              "  [theme=dark] .colab-df-quickchart {\n",
              "      --bg-color: #3B4455;\n",
              "      --fill-color: #D2E3FC;\n",
              "      --hover-bg-color: #434B5C;\n",
              "      --hover-fill-color: #FFFFFF;\n",
              "      --disabled-bg-color: #3B4455;\n",
              "      --disabled-fill-color: #666;\n",
              "  }\n",
              "\n",
              "  .colab-df-quickchart {\n",
              "    background-color: var(--bg-color);\n",
              "    border: none;\n",
              "    border-radius: 50%;\n",
              "    cursor: pointer;\n",
              "    display: none;\n",
              "    fill: var(--fill-color);\n",
              "    height: 32px;\n",
              "    padding: 0;\n",
              "    width: 32px;\n",
              "  }\n",
              "\n",
              "  .colab-df-quickchart:hover {\n",
              "    background-color: var(--hover-bg-color);\n",
              "    box-shadow: 0 1px 2px rgba(60, 64, 67, 0.3), 0 1px 3px 1px rgba(60, 64, 67, 0.15);\n",
              "    fill: var(--button-hover-fill-color);\n",
              "  }\n",
              "\n",
              "  .colab-df-quickchart-complete:disabled,\n",
              "  .colab-df-quickchart-complete:disabled:hover {\n",
              "    background-color: var(--disabled-bg-color);\n",
              "    fill: var(--disabled-fill-color);\n",
              "    box-shadow: none;\n",
              "  }\n",
              "\n",
              "  .colab-df-spinner {\n",
              "    border: 2px solid var(--fill-color);\n",
              "    border-color: transparent;\n",
              "    border-bottom-color: var(--fill-color);\n",
              "    animation:\n",
              "      spin 1s steps(1) infinite;\n",
              "  }\n",
              "\n",
              "  @keyframes spin {\n",
              "    0% {\n",
              "      border-color: transparent;\n",
              "      border-bottom-color: var(--fill-color);\n",
              "      border-left-color: var(--fill-color);\n",
              "    }\n",
              "    20% {\n",
              "      border-color: transparent;\n",
              "      border-left-color: var(--fill-color);\n",
              "      border-top-color: var(--fill-color);\n",
              "    }\n",
              "    30% {\n",
              "      border-color: transparent;\n",
              "      border-left-color: var(--fill-color);\n",
              "      border-top-color: var(--fill-color);\n",
              "      border-right-color: var(--fill-color);\n",
              "    }\n",
              "    40% {\n",
              "      border-color: transparent;\n",
              "      border-right-color: var(--fill-color);\n",
              "      border-top-color: var(--fill-color);\n",
              "    }\n",
              "    60% {\n",
              "      border-color: transparent;\n",
              "      border-right-color: var(--fill-color);\n",
              "    }\n",
              "    80% {\n",
              "      border-color: transparent;\n",
              "      border-right-color: var(--fill-color);\n",
              "      border-bottom-color: var(--fill-color);\n",
              "    }\n",
              "    90% {\n",
              "      border-color: transparent;\n",
              "      border-bottom-color: var(--fill-color);\n",
              "    }\n",
              "  }\n",
              "</style>\n",
              "\n",
              "  <script>\n",
              "    async function quickchart(key) {\n",
              "      const quickchartButtonEl =\n",
              "        document.querySelector('#' + key + ' button');\n",
              "      quickchartButtonEl.disabled = true;  // To prevent multiple clicks.\n",
              "      quickchartButtonEl.classList.add('colab-df-spinner');\n",
              "      try {\n",
              "        const charts = await google.colab.kernel.invokeFunction(\n",
              "            'suggestCharts', [key], {});\n",
              "      } catch (error) {\n",
              "        console.error('Error during call to suggestCharts:', error);\n",
              "      }\n",
              "      quickchartButtonEl.classList.remove('colab-df-spinner');\n",
              "      quickchartButtonEl.classList.add('colab-df-quickchart-complete');\n",
              "    }\n",
              "    (() => {\n",
              "      let quickchartButtonEl =\n",
              "        document.querySelector('#df-3494e2e7-92c4-474f-b8b5-cc0d0082f92c button');\n",
              "      quickchartButtonEl.style.display =\n",
              "        google.colab.kernel.accessAllowed ? 'block' : 'none';\n",
              "    })();\n",
              "  </script>\n",
              "</div>\n",
              "    </div>\n",
              "  </div>\n"
            ],
            "application/vnd.google.colaboratory.intrinsic+json": {
              "type": "dataframe",
              "summary": "{\n  \"name\": \"df\",\n  \"rows\": 8,\n  \"fields\": [\n    {\n      \"column\": \"Score\",\n      \"properties\": {\n        \"dtype\": \"number\",\n        \"std\": 53.51346031744045,\n        \"min\": 1.1131198687956712,\n        \"max\": 156.0,\n        \"num_unique_values\": 8,\n        \"samples\": [\n          5.407096153846155,\n          5.3795,\n          156.0\n        ],\n        \"semantic_type\": \"\",\n        \"description\": \"\"\n      }\n    },\n    {\n      \"column\": \"Social support\",\n      \"properties\": {\n        \"dtype\": \"number\",\n        \"std\": 54.808105747556034,\n        \"min\": 0.0,\n        \"max\": 156.0,\n        \"num_unique_values\": 8,\n        \"samples\": [\n          1.2088141025641026,\n          1.2715,\n          156.0\n        ],\n        \"semantic_type\": \"\",\n        \"description\": \"\"\n      }\n    },\n    {\n      \"column\": \"Healthy life expectancy\",\n      \"properties\": {\n        \"dtype\": \"number\",\n        \"std\": 54.93697487457993,\n        \"min\": 0.0,\n        \"max\": 156.0,\n        \"num_unique_values\": 8,\n        \"samples\": [\n          0.7252435897435898,\n          0.789,\n          156.0\n        ],\n        \"semantic_type\": \"\",\n        \"description\": \"\"\n      }\n    },\n    {\n      \"column\": \"Freedom to make life choices\",\n      \"properties\": {\n        \"dtype\": \"number\",\n        \"std\": 55.03351459999596,\n        \"min\": 0.0,\n        \"max\": 156.0,\n        \"num_unique_values\": 8,\n        \"samples\": [\n          0.39257051282051286,\n          0.417,\n          156.0\n        ],\n        \"semantic_type\": \"\",\n        \"description\": \"\"\n      }\n    }\n  ]\n}"
            }
          },
          "metadata": {},
          "execution_count": 214
        }
      ]
    },
    {
      "cell_type": "code",
      "source": [
        "df.info()\n",
        "# Country or region              //\n",
        "# Score                          Счет\n",
        "# GDP per capita                 //ВВП на душу населения\n",
        "# Social support                 Социальная поддержка\n",
        "# Healthy life expectancy        Ожидаемая продолжительность здоровой жизни\n",
        "# Freedom to make life choices   Свобода делать жизненный выбор"
      ],
      "metadata": {
        "id": "1qXfPIebm_sV",
        "colab": {
          "base_uri": "https://localhost:8080/"
        },
        "outputId": "749f4378-cd7a-4d43-873c-4bf55281f796"
      },
      "execution_count": 215,
      "outputs": [
        {
          "output_type": "stream",
          "name": "stdout",
          "text": [
            "<class 'pandas.core.frame.DataFrame'>\n",
            "RangeIndex: 156 entries, 0 to 155\n",
            "Data columns (total 5 columns):\n",
            " #   Column                        Non-Null Count  Dtype  \n",
            "---  ------                        --------------  -----  \n",
            " 0   Country or region             156 non-null    object \n",
            " 1   Score                         156 non-null    float64\n",
            " 2   Social support                156 non-null    float64\n",
            " 3   Healthy life expectancy       156 non-null    float64\n",
            " 4   Freedom to make life choices  156 non-null    float64\n",
            "dtypes: float64(4), object(1)\n",
            "memory usage: 6.2+ KB\n"
          ]
        }
      ]
    },
    {
      "cell_type": "code",
      "source": [
        "sns.boxplot(df['Score'])"
      ],
      "metadata": {
        "colab": {
          "base_uri": "https://localhost:8080/",
          "height": 432
        },
        "id": "NwCBUO8KO7B3",
        "outputId": "9d546529-25d4-407e-c3d3-c8fcaa67eb56"
      },
      "execution_count": 216,
      "outputs": [
        {
          "output_type": "execute_result",
          "data": {
            "text/plain": [
              "<Axes: ylabel='Score'>"
            ]
          },
          "metadata": {},
          "execution_count": 216
        },
        {
          "output_type": "display_data",
          "data": {
            "text/plain": [
              "<Figure size 640x480 with 1 Axes>"
            ],
            "image/png": "[encoded data removed]"
          },
          "metadata": {}
        }
      ]
    },
    {
      "cell_type": "code",
      "source": [
        "df['Score'].value_counts()"
      ],
      "metadata": {
        "colab": {
          "base_uri": "https://localhost:8080/",
          "height": 484
        },
        "id": "rhLkVLEwPOg0",
        "outputId": "723abbd9-e5fd-4a82-e600-3730a2f00289"
      },
      "execution_count": 217,
      "outputs": [
        {
          "output_type": "execute_result",
          "data": {
            "text/plain": [
              "Score\n",
              "5.208    2\n",
              "7.769    1\n",
              "4.883    1\n",
              "4.812    1\n",
              "4.799    1\n",
              "        ..\n",
              "5.940    1\n",
              "5.895    1\n",
              "5.893    1\n",
              "5.890    1\n",
              "2.853    1\n",
              "Name: count, Length: 155, dtype: int64"
            ],
            "text/html": [
              "<div>\n",
              "<style scoped>\n",
              "    .dataframe tbody tr th:only-of-type {\n",
              "        vertical-align: middle;\n",
              "    }\n",
              "\n",
              "    .dataframe tbody tr th {\n",
              "        vertical-align: top;\n",
              "    }\n",
              "\n",
              "    .dataframe thead th {\n",
              "        text-align: right;\n",
              "    }\n",
              "</style>\n",
              "<table border=\"1\" class=\"dataframe\">\n",
              "  <thead>\n",
              "    <tr style=\"text-align: right;\">\n",
              "      <th></th>\n",
              "      <th>count</th>\n",
              "    </tr>\n",
              "    <tr>\n",
              "      <th>Score</th>\n",
              "      <th></th>\n",
              "    </tr>\n",
              "  </thead>\n",
              "  <tbody>\n",
              "    <tr>\n",
              "      <th>5.208</th>\n",
              "      <td>2</td>\n",
              "    </tr>\n",
              "    <tr>\n",
              "      <th>7.769</th>\n",
              "      <td>1</td>\n",
              "    </tr>\n",
              "    <tr>\n",
              "      <th>4.883</th>\n",
              "      <td>1</td>\n",
              "    </tr>\n",
              "    <tr>\n",
              "      <th>4.812</th>\n",
              "      <td>1</td>\n",
              "    </tr>\n",
              "    <tr>\n",
              "      <th>4.799</th>\n",
              "      <td>1</td>\n",
              "    </tr>\n",
              "    <tr>\n",
              "      <th>...</th>\n",
              "      <td>...</td>\n",
              "    </tr>\n",
              "    <tr>\n",
              "      <th>5.940</th>\n",
              "      <td>1</td>\n",
              "    </tr>\n",
              "    <tr>\n",
              "      <th>5.895</th>\n",
              "      <td>1</td>\n",
              "    </tr>\n",
              "    <tr>\n",
              "      <th>5.893</th>\n",
              "      <td>1</td>\n",
              "    </tr>\n",
              "    <tr>\n",
              "      <th>5.890</th>\n",
              "      <td>1</td>\n",
              "    </tr>\n",
              "    <tr>\n",
              "      <th>2.853</th>\n",
              "      <td>1</td>\n",
              "    </tr>\n",
              "  </tbody>\n",
              "</table>\n",
              "<p>155 rows × 1 columns</p>\n",
              "</div><br><label><b>dtype:</b> int64</label>"
            ]
          },
          "metadata": {},
          "execution_count": 217
        }
      ]
    },
    {
      "cell_type": "code",
      "source": [
        "df['Healthy life expectancy'].value_counts()"
      ],
      "metadata": {
        "colab": {
          "base_uri": "https://localhost:8080/",
          "height": 484
        },
        "id": "3E2oFYfsPAg_",
        "outputId": "286105e4-a1fa-4f62-d137-8e17d09df7be"
      },
      "execution_count": 218,
      "outputs": [
        {
          "output_type": "execute_result",
          "data": {
            "text/plain": [
              "Healthy life expectancy\n",
              "0.999    5\n",
              "0.815    5\n",
              "0.828    4\n",
              "0.871    3\n",
              "0.874    3\n",
              "        ..\n",
              "1.088    1\n",
              "0.798    1\n",
              "0.812    1\n",
              "0.868    1\n",
              "0.295    1\n",
              "Name: count, Length: 119, dtype: int64"
            ],
            "text/html": [
              "<div>\n",
              "<style scoped>\n",
              "    .dataframe tbody tr th:only-of-type {\n",
              "        vertical-align: middle;\n",
              "    }\n",
              "\n",
              "    .dataframe tbody tr th {\n",
              "        vertical-align: top;\n",
              "    }\n",
              "\n",
              "    .dataframe thead th {\n",
              "        text-align: right;\n",
              "    }\n",
              "</style>\n",
              "<table border=\"1\" class=\"dataframe\">\n",
              "  <thead>\n",
              "    <tr style=\"text-align: right;\">\n",
              "      <th></th>\n",
              "      <th>count</th>\n",
              "    </tr>\n",
              "    <tr>\n",
              "      <th>Healthy life expectancy</th>\n",
              "      <th></th>\n",
              "    </tr>\n",
              "  </thead>\n",
              "  <tbody>\n",
              "    <tr>\n",
              "      <th>0.999</th>\n",
              "      <td>5</td>\n",
              "    </tr>\n",
              "    <tr>\n",
              "      <th>0.815</th>\n",
              "      <td>5</td>\n",
              "    </tr>\n",
              "    <tr>\n",
              "      <th>0.828</th>\n",
              "      <td>4</td>\n",
              "    </tr>\n",
              "    <tr>\n",
              "      <th>0.871</th>\n",
              "      <td>3</td>\n",
              "    </tr>\n",
              "    <tr>\n",
              "      <th>0.874</th>\n",
              "      <td>3</td>\n",
              "    </tr>\n",
              "    <tr>\n",
              "      <th>...</th>\n",
              "      <td>...</td>\n",
              "    </tr>\n",
              "    <tr>\n",
              "      <th>1.088</th>\n",
              "      <td>1</td>\n",
              "    </tr>\n",
              "    <tr>\n",
              "      <th>0.798</th>\n",
              "      <td>1</td>\n",
              "    </tr>\n",
              "    <tr>\n",
              "      <th>0.812</th>\n",
              "      <td>1</td>\n",
              "    </tr>\n",
              "    <tr>\n",
              "      <th>0.868</th>\n",
              "      <td>1</td>\n",
              "    </tr>\n",
              "    <tr>\n",
              "      <th>0.295</th>\n",
              "      <td>1</td>\n",
              "    </tr>\n",
              "  </tbody>\n",
              "</table>\n",
              "<p>119 rows × 1 columns</p>\n",
              "</div><br><label><b>dtype:</b> int64</label>"
            ]
          },
          "metadata": {},
          "execution_count": 218
        }
      ]
    },
    {
      "cell_type": "markdown",
      "source": [
        "# Визуальный анализ (гистограммы)"
      ],
      "metadata": {
        "id": "pAzFhve5kUlC"
      }
    },
    {
      "cell_type": "code",
      "source": [
        "keys = [\"Score\", \"Social support\", \"Healthy life expectancy\", \"Freedom to make life choices\"]\n",
        "\n",
        "fig, axes = plt.subplots(2,2)\n",
        "fig.set_size_inches = (15, 50)\n",
        "axes = axes.flatten()\n",
        "\n",
        "for key, ax in zip(keys, axes):\n",
        "  ax.hist(df[key], density=True, bins=23, color='green')\n",
        "\n",
        "  loc = df[key].mean()\n",
        "  scale = df[key].std()\n",
        "\n",
        "  x_left, x_right = ax.get_xlim()\n",
        "  x = np.linspace(x_left, x_right, 10000)\n",
        "  y = stats.norm.pdf(x, loc=loc, scale=scale)\n",
        "\n",
        "  ax.plot(x, y, linestyle = 'dashed', color='black')\n",
        "  ax.set_title(key)"
      ],
      "metadata": {
        "id": "_mxMctBQkVGZ",
        "colab": {
          "base_uri": "https://localhost:8080/",
          "height": 452
        },
        "outputId": "78db8f77-df5a-4d7f-c34b-32bfb3b2be11"
      },
      "execution_count": 219,
      "outputs": [
        {
          "output_type": "display_data",
          "data": {
            "text/plain": [
              "<Figure size 640x480 with 4 Axes>"
            ],
            "image/png": "[encoded data removed]"
          },
          "metadata": {}
        }
      ]
    },
    {
      "cell_type": "markdown",
      "source": [
        "\n",
        "Линии поверх - как бы выглядело нормальное распределение с параметрами, рассчитанными на основе выборок."
      ],
      "metadata": {
        "id": "JkorhHHWnzm4"
      }
    },
    {
      "cell_type": "markdown",
      "source": [
        "# Визуальный анализ (квантили)"
      ],
      "metadata": {
        "id": "H-WvttD6TuIP"
      }
    },
    {
      "cell_type": "markdown",
      "source": [
        "Q-Q кривая - график, который показывает соответствие между теоретическим значением квантиля на выборке и его реальным значением.\n",
        "\n",
        "\n",
        "---\n",
        "\n",
        "\n",
        "F S\n",
        "\n",
        "\n",
        "\n",
        "S F"
      ],
      "metadata": {
        "id": "IunWrUh_UfsU"
      }
    },
    {
      "cell_type": "code",
      "source": [
        "fig, axes = plt.subplots(2,2)\n",
        "fig.set_size_inches = (20, 15)\n",
        "axes = axes.flatten()\n",
        "\n",
        "\n",
        "for key, ax in zip(keys, axes):\n",
        "  samples = df[key]\n",
        "\n",
        "  loc = samples.mean()\n",
        "  scales = samples.std()\n",
        "\n",
        "  interval = np.linspace(0, 1, samples.shape[0])[1:-1]\n",
        "  x = stats.norm.ppf(interval, loc=loc, scale=scale)\n",
        "  y = np.quantile(samples, interval)\n",
        "\n",
        "  ax.scatter(x, y, s=5, color='red')\n",
        "  ax.plot(x, x, color='black', linestyle = 'dashed')\n",
        "\n",
        "  ax.set_title(key)\n",
        "  ax.set_xlabel('теоритические квантили')\n",
        "  ax.set_ylabel('квантили выборки')\n",
        "\n",
        "  # f s\n",
        "  # s f"
      ],
      "metadata": {
        "id": "1DsaBQ8rT0u4",
        "colab": {
          "base_uri": "https://localhost:8080/",
          "height": 472
        },
        "outputId": "adfed643-e9f2-443d-8ae0-763f7d6692b7"
      },
      "execution_count": 220,
      "outputs": [
        {
          "output_type": "display_data",
          "data": {
            "text/plain": [
              "<Figure size 640x480 with 4 Axes>"
            ],
            "image/png": "[encoded data removed]"
          },
          "metadata": {}
        }
      ]
    },
    {
      "cell_type": "markdown",
      "source": [
        "# Стастические показатели для выборок"
      ],
      "metadata": {
        "id": "2UrmOhdWhXdg"
      }
    },
    {
      "cell_type": "markdown",
      "source": [
        "Оценим нормальность выборок также на основании известных характеристик нормального распределения.\n",
        "-В частности:\n",
        "* Вероятность попасть в интервал от  𝜇−𝜎  до  𝜇 +𝜎  равна  0.68 ,\n",
        "* В интервал от  𝜇−2𝜎  до  𝜇+2𝜎  —  0.95 ,\n",
        "* В интервал от  𝜇−3𝜎  до  𝜇+3𝜎  —  0.997"
      ],
      "metadata": {
        "id": "wbJSMhbIhctv"
      }
    },
    {
      "cell_type": "code",
      "source": [
        "for key in keys:\n",
        "    print(key)\n",
        "\n",
        "    samples = df[key]\n",
        "\n",
        "    loc = samples.mean()\n",
        "    scale = samples.std()\n",
        "\n",
        "    for i in range(1, 4):\n",
        "        true_value = stats.norm.cdf(i) - stats.norm.cdf(-i)\n",
        "        sample_value = ((samples >= loc - i * scale) & (samples <= loc + i * scale)).sum() / samples.shape[0]\n",
        "\n",
        "        print(f'{i} sigma(s)')\n",
        "        print(f'\\ttheoretical:\\t{true_value}')\n",
        "        print(f'\\tsample:\\t\\t{sample_value}')\n",
        "\n",
        "    print()"
      ],
      "metadata": {
        "colab": {
          "base_uri": "https://localhost:8080/"
        },
        "id": "QiQqJfhOhbdn",
        "outputId": "ec266fde-ed8e-433a-efa5-842328934291"
      },
      "execution_count": 221,
      "outputs": [
        {
          "output_type": "stream",
          "name": "stdout",
          "text": [
            "Score\n",
            "1 sigma(s)\n",
            "\ttheoretical:\t0.6826894921370859\n",
            "\tsample:\t\t0.6987179487179487\n",
            "2 sigma(s)\n",
            "\ttheoretical:\t0.9544997361036416\n",
            "\tsample:\t\t0.9807692307692307\n",
            "3 sigma(s)\n",
            "\ttheoretical:\t0.9973002039367398\n",
            "\tsample:\t\t1.0\n",
            "\n",
            "Social support\n",
            "1 sigma(s)\n",
            "\ttheoretical:\t0.6826894921370859\n",
            "\tsample:\t\t0.717948717948718\n",
            "2 sigma(s)\n",
            "\ttheoretical:\t0.9544997361036416\n",
            "\tsample:\t\t0.9487179487179487\n",
            "3 sigma(s)\n",
            "\ttheoretical:\t0.9973002039367398\n",
            "\tsample:\t\t0.9935897435897436\n",
            "\n",
            "Healthy life expectancy\n",
            "1 sigma(s)\n",
            "\ttheoretical:\t0.6826894921370859\n",
            "\tsample:\t\t0.6217948717948718\n",
            "2 sigma(s)\n",
            "\ttheoretical:\t0.9544997361036416\n",
            "\tsample:\t\t0.967948717948718\n",
            "3 sigma(s)\n",
            "\ttheoretical:\t0.9973002039367398\n",
            "\tsample:\t\t1.0\n",
            "\n",
            "Freedom to make life choices\n",
            "1 sigma(s)\n",
            "\ttheoretical:\t0.6826894921370859\n",
            "\tsample:\t\t0.6602564102564102\n",
            "2 sigma(s)\n",
            "\ttheoretical:\t0.9544997361036416\n",
            "\tsample:\t\t0.9551282051282052\n",
            "3 sigma(s)\n",
            "\ttheoretical:\t0.9973002039367398\n",
            "\tsample:\t\t1.0\n",
            "\n"
          ]
        }
      ]
    },
    {
      "cell_type": "markdown",
      "source": [
        "# Корелляционная сетка - тепловая карта"
      ],
      "metadata": {
        "id": "0lOEESZLXker"
      }
    },
    {
      "cell_type": "code",
      "source": [
        "#heatmap для матрицы корреляции числовых переменных в датасете.\n",
        "df_corr = df[keys].corr()\n",
        "\n",
        "plt.figure(figsize=(6,5))\n",
        "sns.heatmap(df_corr,\n",
        "            xticklabels=df_corr.columns,\n",
        "            yticklabels=df_corr.columns,\n",
        "            cmap='RdYlGn',\n",
        "            center=0,\n",
        "            annot=True)\n",
        "\n",
        "plt.xticks(fontsize=12)\n",
        "plt.yticks(fontsize=12)\n",
        "plt.show()\n",
        "\n",
        "# Score                          Счет\n",
        "# Social support                 Социальная поддержка\n",
        "# Healthy life expectancy        Ожидаемая продолжительность здоровой жизни\n",
        "# Freedom to make life choices   Свобода делать жизненный выбор"
      ],
      "metadata": {
        "colab": {
          "base_uri": "https://localhost:8080/",
          "height": 680
        },
        "id": "rOSzwPsEXlYa",
        "outputId": "c3d02388-2b79-4ea7-faa1-cdfa67915ddf"
      },
      "execution_count": 222,
      "outputs": [
        {
          "output_type": "display_data",
          "data": {
            "text/plain": [
              "<Figure size 600x500 with 2 Axes>"
            ],
            "image/png": "[encoded data removed]"
          },
          "metadata": {}
        }
      ]
    },
    {
      "cell_type": "code",
      "source": [
        "columns_drop_02 = []\n",
        "target_col = 'Score'\n",
        "keys = ['Social support',\n",
        "        'Healthy life expectancy',\n",
        "        'Freedom to make life choices']\n",
        "data = df[keys]\n",
        "\n",
        "for i in data.columns:\n",
        "  if df_corr.loc[target_col, i] < 0.7:\n",
        "    columns_drop_02.append(i)\n",
        "\n",
        "columns_drop_02"
      ],
      "metadata": {
        "colab": {
          "base_uri": "https://localhost:8080/"
        },
        "id": "-6DRc8H3K4Zz",
        "outputId": "29c5b5a7-a04a-4b2e-9f34-ef89bb7c90fb"
      },
      "execution_count": 223,
      "outputs": [
        {
          "output_type": "execute_result",
          "data": {
            "text/plain": [
              "['Freedom to make life choices']"
            ]
          },
          "metadata": {},
          "execution_count": 223
        }
      ]
    },
    {
      "cell_type": "code",
      "source": [
        "data.drop(columns=columns_drop_02, inplace = True)"
      ],
      "metadata": {
        "colab": {
          "base_uri": "https://localhost:8080/"
        },
        "id": "tUhLSLkrNZcN",
        "outputId": "5acdaa76-3acb-4d13-81e9-2fe51f65df64"
      },
      "execution_count": 224,
      "outputs": [
        {
          "output_type": "stream",
          "name": "stderr",
          "text": [
            "<ipython-input-224-0a093e4005f7>:1: SettingWithCopyWarning: \n",
            "A value is trying to be set on a copy of a slice from a DataFrame\n",
            "\n",
            "See the caveats in the documentation: https://pandas.pydata.org/pandas-docs/stable/user_guide/indexing.html#returning-a-view-versus-a-copy\n",
            "  data.drop(columns=columns_drop_02, inplace = True)\n"
          ]
        }
      ]
    },
    {
      "cell_type": "code",
      "source": [
        "data.columns"
      ],
      "metadata": {
        "colab": {
          "base_uri": "https://localhost:8080/"
        },
        "id": "JauJ_adFL678",
        "outputId": "31c2c58a-a215-42da-a39c-705471cec2c3"
      },
      "execution_count": 225,
      "outputs": [
        {
          "output_type": "execute_result",
          "data": {
            "text/plain": [
              "Index(['Social support', 'Healthy life expectancy'], dtype='object')"
            ]
          },
          "metadata": {},
          "execution_count": 225
        }
      ]
    },
    {
      "cell_type": "code",
      "source": [
        "# коллинераны (корр >= 0.7):"
      ],
      "metadata": {
        "id": "voI1VHOtMYvZ"
      },
      "execution_count": 226,
      "outputs": []
    },
    {
      "cell_type": "markdown",
      "source": [
        "Частный коэффициент корреляции между $(z)$ и $(x)$ при фиксировании переменной (y) определяется следующим образом: \\\n",
        "\n",
        "$[ r_{zy \\cdot x} = \\frac{r_{zy} - r_{xy} \\cdot r_{zx}}{\\sqrt{(1 - r_{xy}^2)(1 - r_{zx}^2)}} ]$\n",
        "\n",
        "Для каждого фактора “фиксируем” его в модели и перебираем оставшиеся факторы, считая частные коэффициенты.\n",
        "Рассчитываем матрицу корреляций для r\n"
      ],
      "metadata": {
        "id": "xzRNnWuoMeMG"
      }
    },
    {
      "cell_type": "code",
      "source": [
        "def r_zxi_xj(r_zxi, r_xixj, r_zxj):\n",
        "  return (r_zxi - r_xixj*r_zxj) / ((1-r_zxj**2) * (1-r_xixj**2))**0.5"
      ],
      "metadata": {
        "id": "egReKPxhMeym"
      },
      "execution_count": 227,
      "outputs": []
    },
    {
      "cell_type": "code",
      "source": [
        "# r_z_xi_xj\n",
        "# xi - фикс\n",
        "# xj - меняем\n",
        "\n",
        "delta_matrix = pd.DataFrame(index=data.columns, columns=data.columns)\n",
        "\n",
        "for i in data.columns:\n",
        "  # print(f\"Фиксируем  {i}:\")\n",
        "  delta_count = 0\n",
        "  delta_sum = 0\n",
        "  r_z_xi = df_corr.loc[target_col, i]\n",
        "  for j in data.columns:\n",
        "    if i != j:\n",
        "      r_z_xj = df_corr.loc[target_col, j]\n",
        "      r_z_xi = df_corr.loc[target_col, i]\n",
        "      r_xi_xj = df_corr.loc[i, j]\n",
        "\n",
        "      # корреляция price и j при фиксированном i\n",
        "      New_Corr = r_zxi_xj(r_z_xi, r_xi_xj, r_z_xj)\n",
        "\n",
        "      delta = abs(r_z_xi - New_Corr)\n",
        "      delta_sum += delta\n",
        "\n",
        "      delta_matrix.loc[i, j] = delta\n",
        "    delta_matrix.loc[i, i] = 0\n",
        "\n",
        "delta_matrix = delta_matrix.apply(pd.to_numeric, errors='coerce')\n",
        "\n",
        "# delta_matrix\n",
        "# слева -  то что фикс\n",
        "# названия столбцов = изменяемые переменные"
      ],
      "metadata": {
        "id": "m4oMQCVEMgoJ"
      },
      "execution_count": 228,
      "outputs": []
    },
    {
      "cell_type": "code",
      "source": [
        "plt.figure(figsize=(7, 5))\n",
        "\n",
        "sns.heatmap(delta_matrix, annot=True, fmt=\".2f\", cmap='RdYlGn', square=True,\n",
        "            cbar_kws={\"shrink\": .8}, linewidths=.5)\n",
        "\n",
        "plt.title('Heatmap of Delta Correlations')\n",
        "plt.xlabel('Changing Variables')\n",
        "plt.ylabel('Fixed Variables')\n",
        "plt.show()"
      ],
      "metadata": {
        "colab": {
          "base_uri": "https://localhost:8080/",
          "height": 487
        },
        "id": "uKZtkUKWM1qR",
        "outputId": "0be7d9d5-d481-4fd6-9bd9-7fe626cd96ae"
      },
      "execution_count": 229,
      "outputs": [
        {
          "output_type": "display_data",
          "data": {
            "text/plain": [
              "<Figure size 700x500 with 2 Axes>"
            ],
            "image/png": "[encoded data removed]"
          },
          "metadata": {}
        }
      ]
    }
  ]
}