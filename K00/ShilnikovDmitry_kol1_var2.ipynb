{
 "cells": [
  {
   "cell_type": "markdown",
   "metadata": {
    "id": "Yzk_yB7pbSMF"
   },
   "source": [
    "## Списки"
   ]
  },
  {
   "cell_type": "markdown",
   "metadata": {
    "id": "DCBX5mGMbYKO"
   },
   "source": [
    "Вам дан список. Поменяйте местами первую и вторую половину списка."
   ]
  },
  {
   "cell_type": "code",
   "execution_count": 2,
   "metadata": {
    "id": "EJPTuUJAbVHi"
   },
   "outputs": [
    {
     "name": "stdout",
     "output_type": "stream",
     "text": [
      "[4, 5, 6, 7, 1, 2, 3]\n"
     ]
    }
   ],
   "source": [
    "a = [1, 2, 3, 4, 5, 6, 7]\n",
    "a[:len(a)//2], a[len(a)//2:] = a[len(a)//2:], a[:len(a)//2]\n",
    "print(a)"
   ]
  },
  {
   "cell_type": "markdown",
   "metadata": {
    "id": "uBVE7ILhbdYj"
   },
   "source": [
    "Вам дан список. Поменяйте в нём местами блоки элементов: каждый нечётный со первого по пятый с начала с каждым чётный со второго по пятый с конца. "
   ]
  },
  {
   "cell_type": "code",
   "execution_count": 4,
   "metadata": {
    "id": "8bgHZzbobdjm"
   },
   "outputs": [
    {
     "name": "stdout",
     "output_type": "stream",
     "text": [
      "[0, 11, 2, 9, 4, 5, 6, 7, 8, 3, 10, 1, 12]\n"
     ]
    }
   ],
   "source": [
    "a = [0, 1, 2, 3, 4, 5, 6, 7, 8, 9, 10, 11, 12]\n",
    "a[1:5:2], a[-2: -5: -2] = a[-2: -5: -2], a[1:5:2]\n",
    "print(a)"
   ]
  },
  {
   "cell_type": "markdown",
   "metadata": {
    "id": "Gl1KfvjTbiA_"
   },
   "source": [
    "## Генераторы"
   ]
  },
  {
   "cell_type": "markdown",
   "metadata": {
    "id": "rhEKi88SborL"
   },
   "source": [
    "Вам дан список. Создайте новый список, в котором останутся только чётные элементы кратные трём. "
   ]
  },
  {
   "cell_type": "code",
   "execution_count": 1,
   "metadata": {
    "id": "Med_JeSDbnYD"
   },
   "outputs": [
    {
     "name": "stdout",
     "output_type": "stream",
     "text": [
      "[6, 12, 24, 12]\n",
      "[6, 12, 24, 12]\n"
     ]
    }
   ],
   "source": [
    "a = [1, 2, 3, 4, 5, 6, 12, 9, 24, 12]\n",
    "b = [x for x in a if x % 6 == 0]\n",
    "print(b)\n",
    "b = list(filter(lambda x: (x % 6 == 0), a))\n",
    "print(b)"
   ]
  },
  {
   "cell_type": "markdown",
   "metadata": {
    "id": "VwS1f2I_bkbw"
   },
   "source": [
    "Вам дан список. Для него и ивертированного по порядку списка выведите пары (x, y) в новом списке."
   ]
  },
  {
   "cell_type": "code",
   "execution_count": 2,
   "metadata": {
    "id": "oA0hEJBibrFi"
   },
   "outputs": [
    {
     "name": "stdout",
     "output_type": "stream",
     "text": [
      "[(1, 9), (2, 8), (3, 7), (4, 6), (5, 5), (6, 4), (7, 3), (8, 2), (9, 1)]\n"
     ]
    }
   ],
   "source": [
    "a = [1, 2, 3, 4, 5, 6, 7, 8, 9]\n",
    "b = a[::-1]\n",
    "p = [(x, y) for x, y in zip(a, b)]\n",
    "print(p)"
   ]
  },
  {
   "cell_type": "markdown",
   "metadata": {
    "id": "R3CZD0rPbsQ1"
   },
   "source": [
    "## Встроенные функции"
   ]
  },
  {
   "cell_type": "markdown",
   "metadata": {
    "id": "WYWx-Y2xbvKj"
   },
   "source": [
    "Вам дана строка. Выведите сумму ascii-кодов элементов в строке. "
   ]
  },
  {
   "cell_type": "code",
   "execution_count": 3,
   "metadata": {
    "id": "OSEB4nUcbxu3"
   },
   "outputs": [
    {
     "name": "stdout",
     "output_type": "stream",
     "text": [
      "1336\n"
     ]
    }
   ],
   "source": [
    "s = \"asfsefes13123ww\"\n",
    "res = sum(ord(i) for i in s)\n",
    "print(res)"
   ]
  },
  {
   "cell_type": "markdown",
   "metadata": {
    "id": "nK7ZcqS-byRF"
   },
   "source": [
    "Вам дана строка. Выведите строку, выведите пары (элемент строки, порядковый номер)."
   ]
  },
  {
   "cell_type": "code",
   "execution_count": 4,
   "metadata": {
    "id": "H13zQg2_b1be"
   },
   "outputs": [
    {
     "name": "stdout",
     "output_type": "stream",
     "text": [
      "(a, 0)\n",
      "(s, 1)\n",
      "(f, 2)\n",
      "(s, 3)\n",
      "(e, 4)\n",
      "(f, 5)\n",
      "(e, 6)\n",
      "(s, 7)\n",
      "(1, 8)\n",
      "(3, 9)\n",
      "(1, 10)\n",
      "(2, 11)\n",
      "(3, 12)\n",
      "(w, 13)\n",
      "(w, 14)\n"
     ]
    }
   ],
   "source": [
    "s = \"asfsefes13123ww\"\n",
    "for k, v in enumerate(s):\n",
    "    print(f'({v}, {k})')"
   ]
  },
  {
   "cell_type": "markdown",
   "metadata": {
    "id": "0k9-AEnkb5r0"
   },
   "source": [
    "## NumPy"
   ]
  },
  {
   "cell_type": "markdown",
   "metadata": {
    "id": "UmlNzlQsb8NF"
   },
   "source": [
    "Дан массив 16х16\n",
    "Создайте новый массив 4х4 , элементы которого будут суммой блоков 4х4 исходного массива"
   ]
  },
  {
   "cell_type": "code",
   "execution_count": 5,
   "metadata": {
    "id": "4gAPKfIVb_wz"
   },
   "outputs": [
    {
     "name": "stdout",
     "output_type": "stream",
     "text": [
      "[[16. 16. 16. 16.]\n",
      " [16. 16. 16. 16.]\n",
      " [16. 16. 16. 16.]\n",
      " [16. 16. 16. 16.]]\n"
     ]
    }
   ],
   "source": [
    "import numpy as np\n",
    "a = np.ones((16, 16))\n",
    "b = np.zeros((4, 4))\n",
    "for i in range(4):\n",
    "    for j in range(4):\n",
    "        b[i][j] = np.sum(a[i*4: (i + 1)*4, j*4: (j + 1)*4])\n",
    "print(b)"
   ]
  },
  {
   "cell_type": "markdown",
   "metadata": {
    "id": "zJXbGiA_cIpW"
   },
   "source": [
    "Дан массив, вставьте между каждым значением сумму соседних элементов"
   ]
  },
  {
   "cell_type": "code",
   "execution_count": 6,
   "metadata": {
    "id": "1riZrqRnca01"
   },
   "outputs": [
    {
     "name": "stdout",
     "output_type": "stream",
     "text": [
      "[1. 2. 1. 2. 1. 2. 1. 2. 1. 2. 1. 2. 1. 2. 1. 2. 1. 2.]\n"
     ]
    }
   ],
   "source": [
    "a = np.array([1, 1, 1, 1, 1, 1, 1, 1, 1])\n",
    "s = a + a[::-1]\n",
    "ans = np.empty(len(a) + len(s))\n",
    "ans[0::2] = a\n",
    "ans[1::2] = s\n",
    "print(ans)"
   ]
  },
  {
   "cell_type": "markdown",
   "metadata": {
    "id": "3lVqgJCMSho-"
   },
   "source": [
    "## Pandas"
   ]
  },
  {
   "cell_type": "markdown",
   "metadata": {
    "id": "qCt5tcUZZrnx"
   },
   "source": [
    "https://www.kaggle.com/datasets/ishadss/productivity-prediction-of-garment-employees"
   ]
  },
  {
   "cell_type": "markdown",
   "metadata": {
    "id": "KUI17XWsSqLF"
   },
   "source": [
    "- Какие типы данных присутствуют в датасете?\n",
    "- Есть ли в датасете пропущенные значения? Если да, то сколько и где?\n",
    "- Постройте график распределения переменной `actual_productivity`.\n",
    "- Постройте heatmap для матрицы корреляции числовых переменных в датасете.\n",
    "- Постройте pairplot для всех переменных.\n",
    "- Постройте boxplot для всех переменных и выведете объекты которые являются выбросами (строки из датафрейма).\n",
    "- Посчитайте различные статестические показатели (среднее, медиана, максимум, минимум) для различных категорий в колонке `quarter` *(т.е. отдельно какие показатели у класса quarter1, какие у класса quarter2 и и т.д.)*.\n",
    "- Разделите колонку `date` на три: день, месяц, год."
   ]
  },
  {
   "cell_type": "code",
   "execution_count": 7,
   "metadata": {},
   "outputs": [
    {
     "name": "stdout",
     "output_type": "stream",
     "text": [
      "date                      object\n",
      "quarter                   object\n",
      "department                object\n",
      "day                       object\n",
      "team                       int64\n",
      "targeted_productivity    float64\n",
      "smv                      float64\n",
      "wip                      float64\n",
      "over_time                  int64\n",
      "incentive                  int64\n",
      "idle_time                float64\n",
      "idle_men                   int64\n",
      "no_of_style_change         int64\n",
      "no_of_workers            float64\n",
      "actual_productivity      float64\n",
      "dtype: object\n"
     ]
    }
   ],
   "source": [
    "import pandas as pd\n",
    "\n",
    "df = pd.read_csv(\"archive/garments_worker_productivity.csv\")\n",
    "print(df.dtypes)"
   ]
  },
  {
   "cell_type": "code",
   "execution_count": null,
   "metadata": {},
   "outputs": [
    {
     "name": "stdout",
     "output_type": "stream",
     "text": [
      "[sudo] password for dmitry: "
     ]
    }
   ],
   "source": []
  },
  {
   "cell_type": "code",
   "execution_count": null,
   "metadata": {},
   "outputs": [],
   "source": []
  },
  {
   "cell_type": "code",
   "execution_count": 9,
   "metadata": {},
   "outputs": [
    {
     "name": "stdout",
     "output_type": "stream",
     "text": [
      "date                       0\n",
      "quarter                    0\n",
      "department                 0\n",
      "day                        0\n",
      "team                       0\n",
      "targeted_productivity      0\n",
      "smv                        0\n",
      "wip                      506\n",
      "over_time                  0\n",
      "incentive                  0\n",
      "idle_time                  0\n",
      "idle_men                   0\n",
      "no_of_style_change         0\n",
      "no_of_workers              0\n",
      "actual_productivity        0\n",
      "dtype: int64\n"
     ]
    }
   ],
   "source": [
    "nulls = df.isnull().sum()\n",
    "print(nulls)"
   ]
  },
  {
   "cell_type": "code",
   "execution_count": 10,
   "metadata": {},
   "outputs": [
    {
     "ename": "ModuleNotFoundError",
     "evalue": "No module named 'seaborn'",
     "output_type": "error",
     "traceback": [
      "\u001b[0;31m---------------------------------------------------------------------------\u001b[0m",
      "\u001b[0;31mModuleNotFoundError\u001b[0m                       Traceback (most recent call last)",
      "Cell \u001b[0;32mIn[10], line 1\u001b[0m\n\u001b[0;32m----> 1\u001b[0m \u001b[38;5;28;01mimport\u001b[39;00m \u001b[38;5;21;01mseaborn\u001b[39;00m \u001b[38;5;28;01mas\u001b[39;00m \u001b[38;5;21;01msns\u001b[39;00m\n\u001b[1;32m      2\u001b[0m \u001b[38;5;28;01mimport\u001b[39;00m \u001b[38;5;21;01mmatplotlib\u001b[39;00m\u001b[38;5;21;01m.\u001b[39;00m\u001b[38;5;21;01mpyplot\u001b[39;00m \u001b[38;5;28;01mas\u001b[39;00m \u001b[38;5;21;01mplt\u001b[39;00m\n\u001b[1;32m      3\u001b[0m plt\u001b[38;5;241m.\u001b[39mfigure(figsize\u001b[38;5;241m=\u001b[39m(\u001b[38;5;241m10\u001b[39m, \u001b[38;5;241m6\u001b[39m))\n",
      "\u001b[0;31mModuleNotFoundError\u001b[0m: No module named 'seaborn'"
     ]
    }
   ],
   "source": [
    "import seaborn as sns\n",
    "import matplotlib.pyplot as plt\n",
    "plt.figure(figsize=(10, 6))\n",
    "sns.histplot(df['actual_productivity'], kde=True, bins=30)\n",
    "plt.title('Распределение actual_productivity', fontsize=16)\n",
    "plt.xlabel('Actual Productivity', fontsize=14)\n",
    "plt.ylabel('Частота', fontsize=14)\n",
    "plt.grid(True)\n",
    "plt.show()\n"
   ]
  },
  {
   "cell_type": "code",
   "execution_count": null,
   "metadata": {},
   "outputs": [],
   "source": []
  }
 ],
 "metadata": {
  "colab": {
   "provenance": []
  },
  "kernelspec": {
   "display_name": "Python 3 (ipykernel)",
   "language": "python",
   "name": "python3"
  },
  "language_info": {
   "codemirror_mode": {
    "name": "ipython",
    "version": 3
   },
   "file_extension": ".py",
   "mimetype": "text/x-python",
   "name": "python",
   "nbconvert_exporter": "python",
   "pygments_lexer": "ipython3",
   "version": "3.11.6"
  }
 },
 "nbformat": 4,
 "nbformat_minor": 1
}
