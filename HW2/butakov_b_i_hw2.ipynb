{
 "cells": [
  {
   "cell_type": "code",
   "execution_count": 1,
   "metadata": {},
   "outputs": [],
   "source": [
    "import numpy as np"
   ]
  },
  {
   "cell_type": "code",
   "execution_count": 2,
   "metadata": {},
   "outputs": [],
   "source": [
    "etalons = np.array([\n",
    "    [-1, -1, 1, -1, 1],\n",
    "    [1, -1, 1, -1, 1],\n",
    "    [-1, 1, -1, 1, -1],\n",
    "    [1, 1, 1, -1, -1]\n",
    "])\n",
    "\n",
    "objects = np.array([\n",
    "    [-1, -1, -1, -1, 1],\n",
    "    [1, -1, 1, -1, -1],\n",
    "    [-1, 1, -1, -1, -1],\n",
    "    [-1, 1, -1, -1, -1]\n",
    "])\n",
    "\n",
    "size = etalons.shape[1]"
   ]
  },
  {
   "cell_type": "code",
   "execution_count": 3,
   "metadata": {},
   "outputs": [
    {
     "data": {
      "text/plain": [
       "array([[ 0.,  0.,  2., -2.,  0.],\n",
       "       [ 0.,  0., -2.,  2., -4.],\n",
       "       [ 2., -2.,  0., -4.,  2.],\n",
       "       [-2.,  2., -4.,  0., -2.],\n",
       "       [ 0., -4.,  2., -2.,  0.]])"
      ]
     },
     "execution_count": 3,
     "metadata": {},
     "output_type": "execute_result"
    }
   ],
   "source": [
    "# оригинал\n",
    "\n",
    "weights = np.zeros((size, size))\n",
    "\n",
    "for pattern in etalons:\n",
    "    pattern = np.reshape(pattern, (1, size))\n",
    "    weights += np.dot(pattern.T, pattern)\n",
    "np.fill_diagonal(weights, 0)\n",
    "\n",
    "weights"
   ]
  },
  {
   "cell_type": "code",
   "execution_count": 34,
   "metadata": {},
   "outputs": [
    {
     "data": {
      "text/plain": [
       "array([[ 0,  0,  2, -2,  0],\n",
       "       [ 0,  0, -2,  2, -4],\n",
       "       [ 2, -2,  0, -4,  2],\n",
       "       [-2,  2, -4,  0, -2],\n",
       "       [ 0, -4,  2, -2,  0]])"
      ]
     },
     "execution_count": 34,
     "metadata": {},
     "output_type": "execute_result"
    }
   ],
   "source": [
    "weights = etalons.T @ etalons\n",
    "np.fill_diagonal(weights, 0)\n",
    "\n",
    "weights"
   ]
  },
  {
   "cell_type": "code",
   "execution_count": 9,
   "metadata": {},
   "outputs": [
    {
     "name": "stdout",
     "output_type": "stream",
     "text": [
      "Зшумлённый объект         0          (np.int64(-1), np.int64(-1), np.int64(-1), np.int64(-1), np.int64(1))\n",
      "Результат востановления   0          (np.int64(1), np.int64(-1), np.int64(1), np.int64(-1), np.int64(1))\n",
      "\n",
      "Зшумлённый объект         1          (np.int64(1), np.int64(-1), np.int64(1), np.int64(-1), np.int64(-1))\n",
      "Результат востановления   1          (np.int64(1), np.int64(-1), np.int64(1), np.int64(-1), np.int64(1))\n",
      "\n",
      "Зшумлённый объект         2          (np.int64(-1), np.int64(1), np.int64(-1), np.int64(-1), np.int64(-1))\n",
      "Результат востановления   2          (np.int64(-1), np.int64(1), np.int64(-1), np.int64(1), np.int64(-1))\n",
      "\n",
      "Зшумлённый объект         3          (np.int64(-1), np.int64(1), np.int64(-1), np.int64(-1), np.int64(-1))\n",
      "Результат востановления   3          (np.int64(-1), np.int64(1), np.int64(-1), np.int64(1), np.int64(-1))\n",
      "\n"
     ]
    }
   ],
   "source": [
    "# оригинал\n",
    "\n",
    "max_iterations=10\n",
    "\n",
    "for i, noisy_pattern in enumerate(objects):\n",
    "    iteration = 0\n",
    "    while iteration < max_iterations:\n",
    "        iteration += 1\n",
    "        prev_pattern = np.copy(noisy_pattern)\n",
    "        noisy_pattern = np.sign(np.dot(noisy_pattern, weights))\n",
    "        if np.array_equal(noisy_pattern, prev_pattern):\n",
    "            break\n",
    "\n",
    "#         distances = np.sum(np.abs(patterns - noisy_pattern), axis=1)\n",
    "#         closest_match_idx = np.argmin(distances)\n",
    "\n",
    "    #print('{:<25} {:<10} {:<10}'.format(\"Исходный объект\", i, str(tuple(etalons[i]))))\n",
    "    print('{:<25} {:<10} {:<10}'.format(\"Зшумлённый объект\", i, str(tuple(objects[i]))))\n",
    "    print('{:<25} {:<10} {:<10}'.format(\"Результат востановления\", i, str(tuple(noisy_pattern))))\n",
    "\n",
    "    print(\"\")"
   ]
  },
  {
   "cell_type": "code",
   "execution_count": 33,
   "metadata": {},
   "outputs": [
    {
     "name": "stdout",
     "output_type": "stream",
     "text": [
      "Зашумлённый объект        0          (np.int64(-1), np.int64(-1), np.int64(-1), np.int64(-1), np.int64(1))\n",
      "Результат востановления   0          (np.int64(1), np.int64(-1), np.int64(1), np.int64(-1), np.int64(1))\n",
      "\n",
      "Зашумлённый объект        1          (np.int64(1), np.int64(-1), np.int64(1), np.int64(-1), np.int64(-1))\n",
      "Результат востановления   1          (np.int64(1), np.int64(-1), np.int64(1), np.int64(-1), np.int64(1))\n",
      "\n",
      "Зашумлённый объект        2          (np.int64(-1), np.int64(1), np.int64(-1), np.int64(-1), np.int64(-1))\n",
      "Результат востановления   2          (np.int64(-1), np.int64(1), np.int64(-1), np.int64(1), np.int64(-1))\n",
      "\n",
      "Зашумлённый объект        3          (np.int64(-1), np.int64(1), np.int64(-1), np.int64(-1), np.int64(-1))\n",
      "Результат востановления   3          (np.int64(-1), np.int64(1), np.int64(-1), np.int64(1), np.int64(-1))\n"
     ]
    }
   ],
   "source": [
    "# Функция для стабилизации состояния до сходимости\n",
    "def hopfield_predict(objects, weights, max_iterations):\n",
    "    state = np.copy(objects)\n",
    "\n",
    "    def stabilize(state, weights, iteration=0):\n",
    "        if iteration >= max_iterations:\n",
    "            return state\n",
    "        new_state = np.sign(state @ weights)\n",
    "        new_state[new_state == 0] = 1\n",
    "        if np.array_equal(new_state, state):\n",
    "            return new_state\n",
    "        return stabilize(new_state, weights, iteration + 1)\n",
    "\n",
    "    return stabilize(state, weights)\n",
    "\n",
    "\n",
    "restored_patterns = hopfield_predict(objects, weights, max_iterations)\n",
    "\n",
    "output = \"\\n\\n\".join(map(\n",
    "    lambda i: '{:<25} {:<10} {:<10}\\n{:<25} {:<10} {:<10}'.format(\n",
    "        \"Зашумлённый объект\", i[0], str(tuple(i[1][0])),\n",
    "        \"Результат востановления\", i[0], str(tuple(i[1][1]))\n",
    "    ),\n",
    "    enumerate(zip(objects, restored_patterns))\n",
    "))\n",
    "\n",
    "print(output)"
   ]
  },
  {
   "cell_type": "code",
   "execution_count": 21,
   "metadata": {},
   "outputs": [
    {
     "data": {
      "image/png": "[encoded data removed]",
      "text/plain": [
       "<Figure size 1500x1000 with 4 Axes>"
      ]
     },
     "metadata": {},
     "output_type": "display_data"
    }
   ],
   "source": [
    "# оригинал\n",
    "\n",
    "import numpy as np\n",
    "import matplotlib.pyplot as plt\n",
    "import scipy.misc as sp\n",
    "import matplotlib.image as img\n",
    "\n",
    "def trainer(vector):\n",
    "    vector = vector.flatten()\n",
    "    coefMat = np.zeros([len(vector),len(vector)])\n",
    "\n",
    "    for i in range(len(vector)):\n",
    "        for j in range(len(vector)):\n",
    "            if (i!=(i-j)):\n",
    "                coefMat[i][i-j] = vector[i]*vector[i-j]\n",
    "\n",
    "    vector = np.reshape(vector, [int(np.sqrt(len(vector))),int(np.sqrt(len(vector)))])\n",
    "\n",
    "    return coefMat\n",
    "\n",
    "def prediction(curuptedVec,coefMat):\n",
    "    curuptedVec = curuptedVec.flatten()\n",
    "    predictVec = np.zeros(len(curuptedVec))\n",
    "    for i in range(len(curuptedVec)):\n",
    "        temp = 0\n",
    "        for j in range(len(curuptedVec)):\n",
    "             temp += coefMat[i][j] * curuptedVec[j]\n",
    "        if (temp>0):\n",
    "            predictVec[i] = 1\n",
    "        if (temp<0):\n",
    "            predictVec[i] = -1\n",
    "\n",
    "    predictVec = np.reshape(predictVec, [int(np.sqrt(len(predictVec))),int(np.sqrt(len(predictVec)))])\n",
    "    return predictVec\n",
    "\n",
    "def imageGenerator(imageVector, vmax = 1):\n",
    "    cleanImage = np.zeros([len(imageVector),len(imageVector)])\n",
    "    for i in range(len(imageVector)):\n",
    "        for j in range(len(imageVector)):\n",
    "            if (imageVector[i][j] == vmax):\n",
    "                cleanImage[i][j] = 1\n",
    "            else:\n",
    "                cleanImage[i][j] = -1\n",
    "    noisyImage = cleanImage + np.random.normal(0, 2, [len(image),len(image)])\n",
    "\n",
    "    for i in range(len(image)):\n",
    "        for j in range(len(image)):\n",
    "            if (noisyImage[i][j] >= 0):\n",
    "                noisyImage[i][j] = 1\n",
    "            else:\n",
    "                noisyImage[i][j] = -1\n",
    "\n",
    "\n",
    "    return cleanImage,noisyImage\n",
    "\n",
    "#Import the image\n",
    "image = img.imread('1.png','w').copy()\n",
    "vector,noisyVec = imageGenerator(image)\n",
    "coefMatrix = trainer(vector)\n",
    "predictedVec = prediction(noisyVec,coefMatrix)\n",
    "\n",
    "plt.figure(figsize=(15,10))\n",
    "plt.subplot(1,4,1)\n",
    "plt.imshow(image)\n",
    "plt.title('imported picture')\n",
    "plt.subplot(1,4,2)\n",
    "plt.imshow(vector);\n",
    "plt.title('cleaned and croped picture')\n",
    "plt.subplot(1,4,3)\n",
    "plt.imshow(noisyVec);\n",
    "plt.title('noisy picture')\n",
    "plt.subplot(1,4,4)\n",
    "plt.imshow(predictedVec);\n",
    "plt.title('recalled picture')\n",
    "plt.show()"
   ]
  },
  {
   "cell_type": "code",
   "execution_count": null,
   "metadata": {},
   "outputs": [
    {
     "data": {
      "image/png": "[encoded data removed]",
      "text/plain": [
       "<Figure size 1500x1000 with 4 Axes>"
      ]
     },
     "metadata": {},
     "output_type": "display_data"
    }
   ],
   "source": [
    "import matplotlib.pyplot as plt\n",
    "import matplotlib.image as img\n",
    "\n",
    "\n",
    "def trainer(vector):\n",
    "    vector = vector.flatten()\n",
    "    coefMat = np.outer(vector, vector)\n",
    "    np.fill_diagonal(coefMat, 0)\n",
    "    return coefMat\n",
    "\n",
    "\n",
    "# предсказание восстановления изображения\n",
    "def prediction(corruptedVec, coefMat):\n",
    "    corruptedVec = corruptedVec.flatten()\n",
    "    predictVec = np.sign(corruptedVec @ coefMat)\n",
    "    predictVec[predictVec == 0] = 1\n",
    "    side = int(np.sqrt(len(predictVec)))\n",
    "    return predictVec.reshape((side, side))\n",
    "\n",
    "\n",
    "def imageGenerator(imageVector, vmax=1):\n",
    "    cleanImage = np.where(imageVector == vmax, 1, -1)\n",
    "    noisyImage = cleanImage + np.random.normal(0, 2, cleanImage.shape) # распределение по норм. закону\n",
    "    noisyImage = np.where(noisyImage >= 0, 1, -1)\n",
    "    return cleanImage, noisyImage\n",
    "\n",
    "\n",
    "image = img.imread('1.png','w').copy()\n",
    "vector,noisyVec = imageGenerator(image)\n",
    "coefMatrix = trainer(vector)\n",
    "predictedVec = prediction(noisyVec,coefMatrix)\n",
    "\n",
    "plt.figure(figsize=(15,10))\n",
    "plt.subplot(1,4,1)\n",
    "plt.imshow(image)\n",
    "plt.title('imported picture')\n",
    "plt.subplot(1,4,2)\n",
    "plt.imshow(vector);\n",
    "plt.title('cleaned and croped picture')\n",
    "plt.subplot(1,4,3)\n",
    "plt.imshow(noisyVec);\n",
    "plt.title('noisy picture')\n",
    "plt.subplot(1,4,4)\n",
    "plt.imshow(predictedVec);\n",
    "plt.title('recalled picture')\n",
    "plt.show()\n"
   ]
  }
 ],
 "metadata": {
  "kernelspec": {
   "display_name": "Python 3 (ipykernel)",
   "language": "python",
   "name": "python3"
  },
  "language_info": {
   "codemirror_mode": {
    "name": "ipython",
    "version": 3
   },
   "file_extension": ".py",
   "mimetype": "text/x-python",
   "name": "python",
   "nbconvert_exporter": "python",
   "pygments_lexer": "ipython3",
   "version": "3.10.12"
  }
 },
 "nbformat": 4,
 "nbformat_minor": 4
}
